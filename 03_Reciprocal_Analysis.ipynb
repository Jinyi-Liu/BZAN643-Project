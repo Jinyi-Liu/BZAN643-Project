{
 "cells": [
  {
   "cell_type": "markdown",
   "id": "7573226d-4f44-48af-8182-af60034f78bb",
   "metadata": {},
   "source": [
    "# Reciprocal Relationship between Bartering and Selling\n",
    "- When it comes to game exchange, do people prefer to exchange the game with someone who has exchanged before or someone who has not exchanged before? \n",
    "- What's the difference between game sales and game exchange?\n",
    "\n",
    "Here, we use logistic regression."
   ]
  },
  {
   "cell_type": "markdown",
   "id": "97677bf2-13a7-41f8-8b25-baede2051ab4",
   "metadata": {},
   "source": [
    "## 0. Load the data"
   ]
  },
  {
   "cell_type": "code",
   "execution_count": 1,
   "id": "a5a3804c-af85-4d23-9422-9f5cece76576",
   "metadata": {
    "tags": []
   },
   "outputs": [],
   "source": [
    "import pandas as pd\n",
    "import pickle\n",
    "import matplotlib.pyplot as plt\n",
    "import seaborn as sns"
   ]
  },
  {
   "cell_type": "code",
   "execution_count": 2,
   "id": "77cfd091",
   "metadata": {},
   "outputs": [],
   "source": [
    "# Load the data from pickle file\n",
    "with open('data/transaction_history_all.pickle', 'rb') as f:\n",
    "    data = pickle.load(f)\n",
    "\n",
    "# Choose only the data before 2019-01-01\n",
    "data = data.loc[data['created_utc']<='2018-12-31']"
   ]
  },
  {
   "cell_type": "code",
   "execution_count": 3,
   "id": "bd67c247-30e0-4584-adb6-3b2ccff6cbdb",
   "metadata": {
    "tags": []
   },
   "outputs": [],
   "source": [
    "# with open((\"./data/df_pre2019_original.pickle\"), 'rb') as handle:\n",
    "#     data = pickle.load(handle)\n",
    "# data.shape"
   ]
  },
  {
   "cell_type": "markdown",
   "id": "64cb52f8-ca43-496b-bd5a-be409697e3ae",
   "metadata": {},
   "source": [
    "## 1. Preprocessing\n",
    "- The bot may record wrongly the confirmantion.\n",
    "- Some Reddit users may delete their accounts.\n",
    "\n",
    "**We ignore these cases by deleting these rows.**"
   ]
  },
  {
   "cell_type": "code",
   "execution_count": 4,
   "id": "c1fd1ea4-e1d3-4c6f-9adb-9a9c48fecc39",
   "metadata": {
    "tags": []
   },
   "outputs": [
    {
     "data": {
      "text/plain": [
       "(97, 11)"
      ]
     },
     "execution_count": 4,
     "metadata": {},
     "output_type": "execute_result"
    }
   ],
   "source": [
    "data.loc[data['author']==data['reply_author']].shape"
   ]
  },
  {
   "cell_type": "code",
   "execution_count": 5,
   "id": "2155b724-0621-4dc8-81ad-f80236caad06",
   "metadata": {
    "tags": []
   },
   "outputs": [],
   "source": [
    "data = data.loc[data['author']!=data['reply_author']]"
   ]
  },
  {
   "cell_type": "code",
   "execution_count": 6,
   "id": "ff1c68df-d066-401d-8d38-eed88e5f16ed",
   "metadata": {
    "tags": []
   },
   "outputs": [
    {
     "data": {
      "text/plain": [
       "(1759, 11)"
      ]
     },
     "execution_count": 6,
     "metadata": {},
     "output_type": "execute_result"
    }
   ],
   "source": [
    "data.loc[(data['author']=='[deleted]')|(data['reply_author']=='[deleted]')].shape"
   ]
  },
  {
   "cell_type": "code",
   "execution_count": 7,
   "id": "ca0a2de5-7911-4fa5-85c7-a3900ab3b6b2",
   "metadata": {
    "tags": []
   },
   "outputs": [],
   "source": [
    "data = data.loc[(data['author']!='[deleted]') & (data['reply_author']!='[deleted]')]"
   ]
  },
  {
   "cell_type": "code",
   "execution_count": 8,
   "id": "ce933d8d-553d-4e0c-8c6d-5b820fbb55ca",
   "metadata": {
    "tags": []
   },
   "outputs": [
    {
     "data": {
      "text/html": [
       "<div>\n",
       "<style scoped>\n",
       "    .dataframe tbody tr th:only-of-type {\n",
       "        vertical-align: middle;\n",
       "    }\n",
       "\n",
       "    .dataframe tbody tr th {\n",
       "        vertical-align: top;\n",
       "    }\n",
       "\n",
       "    .dataframe thead th {\n",
       "        text-align: right;\n",
       "    }\n",
       "</style>\n",
       "<table border=\"1\" class=\"dataframe\">\n",
       "  <thead>\n",
       "    <tr style=\"text-align: right;\">\n",
       "      <th></th>\n",
       "      <th>user</th>\n",
       "      <th>index</th>\n",
       "      <th>author</th>\n",
       "      <th>body</th>\n",
       "      <th>created_utc</th>\n",
       "      <th>permalink</th>\n",
       "      <th>reply_author</th>\n",
       "      <th>reply_body</th>\n",
       "      <th>type</th>\n",
       "      <th>pred</th>\n",
       "      <th>subreddit</th>\n",
       "    </tr>\n",
       "  </thead>\n",
       "  <tbody>\n",
       "    <tr>\n",
       "      <th>6</th>\n",
       "      <td>rdmentalist</td>\n",
       "      <td>rdmentalist_2</td>\n",
       "      <td>MrAce2C</td>\n",
       "      <td>Successful trade with u/rdmentalist. Gave Gear...</td>\n",
       "      <td>2016-10-23 21:59:35</td>\n",
       "      <td>/r/gameswap/comments/543ojp/completed_trade_th...</td>\n",
       "      <td>rdmentalist</td>\n",
       "      <td>Confirmed.</td>\n",
       "      <td>gameswap</td>\n",
       "      <td>NaN</td>\n",
       "      <td>gameswap</td>\n",
       "    </tr>\n",
       "    <tr>\n",
       "      <th>9</th>\n",
       "      <td>rdmentalist</td>\n",
       "      <td>rdmentalist_5</td>\n",
       "      <td>TradlyGent</td>\n",
       "      <td>swapped a 20% PSN code for Gears of War 1 and ...</td>\n",
       "      <td>2018-07-03 17:19:14</td>\n",
       "      <td>/r/gameswap/comments/7q4pkv/completed_swap_thr...</td>\n",
       "      <td>rdmentalist</td>\n",
       "      <td>Confirmed.</td>\n",
       "      <td>gameswap</td>\n",
       "      <td>NaN</td>\n",
       "      <td>gameswap</td>\n",
       "    </tr>\n",
       "    <tr>\n",
       "      <th>10</th>\n",
       "      <td>rdmentalist</td>\n",
       "      <td>rdmentalist_6</td>\n",
       "      <td>keokidream</td>\n",
       "      <td>Successful trade with /u/rdmentalist\\n\\nCall o...</td>\n",
       "      <td>2016-06-17 14:54:23</td>\n",
       "      <td>/r/gameswap/comments/4c351t/completed_trade_th...</td>\n",
       "      <td>rdmentalist</td>\n",
       "      <td>Confirmed! thanks</td>\n",
       "      <td>gameswap</td>\n",
       "      <td>NaN</td>\n",
       "      <td>gameswap</td>\n",
       "    </tr>\n",
       "    <tr>\n",
       "      <th>11</th>\n",
       "      <td>rdmentalist</td>\n",
       "      <td>rdmentalist_7</td>\n",
       "      <td>testicles_two</td>\n",
       "      <td>Traded Gears of War 1,2,3 and Judgement for $1...</td>\n",
       "      <td>2016-06-23 23:55:01</td>\n",
       "      <td>/r/gameswap/comments/4c351t/completed_trade_th...</td>\n",
       "      <td>rdmentalist</td>\n",
       "      <td>Confirmed ! thanks</td>\n",
       "      <td>gameswap</td>\n",
       "      <td>NaN</td>\n",
       "      <td>gameswap</td>\n",
       "    </tr>\n",
       "    <tr>\n",
       "      <th>12</th>\n",
       "      <td>rdmentalist</td>\n",
       "      <td>rdmentalist_8</td>\n",
       "      <td>walterpwn</td>\n",
       "      <td>Successful trade with [/u/rdmentalist](https:/...</td>\n",
       "      <td>2016-05-12 19:43:00</td>\n",
       "      <td>/r/gameswap/comments/4c351t/completed_trade_th...</td>\n",
       "      <td>rdmentalist</td>\n",
       "      <td>Confirmed :)</td>\n",
       "      <td>gameswap</td>\n",
       "      <td>NaN</td>\n",
       "      <td>gameswap</td>\n",
       "    </tr>\n",
       "  </tbody>\n",
       "</table>\n",
       "</div>"
      ],
      "text/plain": [
       "           user          index         author  \\\n",
       "6   rdmentalist  rdmentalist_2        MrAce2C   \n",
       "9   rdmentalist  rdmentalist_5     TradlyGent   \n",
       "10  rdmentalist  rdmentalist_6     keokidream   \n",
       "11  rdmentalist  rdmentalist_7  testicles_two   \n",
       "12  rdmentalist  rdmentalist_8      walterpwn   \n",
       "\n",
       "                                                 body         created_utc  \\\n",
       "6   Successful trade with u/rdmentalist. Gave Gear... 2016-10-23 21:59:35   \n",
       "9   swapped a 20% PSN code for Gears of War 1 and ... 2018-07-03 17:19:14   \n",
       "10  Successful trade with /u/rdmentalist\\n\\nCall o... 2016-06-17 14:54:23   \n",
       "11  Traded Gears of War 1,2,3 and Judgement for $1... 2016-06-23 23:55:01   \n",
       "12  Successful trade with [/u/rdmentalist](https:/... 2016-05-12 19:43:00   \n",
       "\n",
       "                                            permalink reply_author  \\\n",
       "6   /r/gameswap/comments/543ojp/completed_trade_th...  rdmentalist   \n",
       "9   /r/gameswap/comments/7q4pkv/completed_swap_thr...  rdmentalist   \n",
       "10  /r/gameswap/comments/4c351t/completed_trade_th...  rdmentalist   \n",
       "11  /r/gameswap/comments/4c351t/completed_trade_th...  rdmentalist   \n",
       "12  /r/gameswap/comments/4c351t/completed_trade_th...  rdmentalist   \n",
       "\n",
       "            reply_body      type  pred subreddit  \n",
       "6           Confirmed.  gameswap   NaN  gameswap  \n",
       "9           Confirmed.  gameswap   NaN  gameswap  \n",
       "10   Confirmed! thanks  gameswap   NaN  gameswap  \n",
       "11  Confirmed ! thanks  gameswap   NaN  gameswap  \n",
       "12        Confirmed :)  gameswap   NaN  gameswap  "
      ]
     },
     "execution_count": 8,
     "metadata": {},
     "output_type": "execute_result"
    }
   ],
   "source": [
    "data.head()"
   ]
  },
  {
   "cell_type": "code",
   "execution_count": 9,
   "id": "76ef6050-48a4-4f06-add3-104a468e8450",
   "metadata": {
    "tags": []
   },
   "outputs": [
    {
     "data": {
      "text/plain": [
       "(28586, 11)"
      ]
     },
     "execution_count": 9,
     "metadata": {},
     "output_type": "execute_result"
    }
   ],
   "source": [
    "# So we still have 28586 rows of confirmantion data.\n",
    "data.shape"
   ]
  },
  {
   "cell_type": "code",
   "execution_count": 10,
   "id": "82c4850c-7b06-4b7f-a3f3-35a7afe0babe",
   "metadata": {
    "tags": []
   },
   "outputs": [
    {
     "data": {
      "text/plain": [
       "count                            28586\n",
       "mean     2016-10-29 16:11:53.239487744\n",
       "min                2013-10-01 19:51:32\n",
       "25%                2015-08-04 21:05:31\n",
       "50%                2017-01-23 03:03:51\n",
       "75%                2018-02-25 17:14:02\n",
       "max                2018-12-30 23:12:21\n",
       "Name: created_utc, dtype: object"
      ]
     },
     "execution_count": 10,
     "metadata": {},
     "output_type": "execute_result"
    }
   ],
   "source": [
    "data['created_utc'].describe(datetime_is_numeric=True)"
   ]
  },
  {
   "cell_type": "markdown",
   "id": "4a0f4443-00a2-4b80-8469-5a487edd6c29",
   "metadata": {},
   "source": [
    "## 2. Relationship"
   ]
  },
  {
   "cell_type": "code",
   "execution_count": 11,
   "id": "129acb05-9f20-444b-b935-547e06273936",
   "metadata": {
    "tags": []
   },
   "outputs": [],
   "source": [
    "data_sale = data.loc[data['type']=='gamesale']\n",
    "data_swap = data.loc[data['type']=='gameswap']"
   ]
  },
  {
   "cell_type": "code",
   "execution_count": 12,
   "id": "4843185c-54b5-4bd8-8b5e-ab46d3069cb5",
   "metadata": {
    "tags": []
   },
   "outputs": [],
   "source": [
    "swap_user = set(data_swap['author'])\n",
    "sale_user = set(data_sale['author'])\n",
    "both_user = swap_user.intersection(sale_user)"
   ]
  },
  {
   "cell_type": "code",
   "execution_count": 13,
   "id": "4eb6b43a-a9b5-4f75-8c05-7ccd2c5527e4",
   "metadata": {
    "tags": []
   },
   "outputs": [
    {
     "name": "stdout",
     "output_type": "stream",
     "text": [
      "Active users in r/GameSwap: 1492\n",
      "Active users in r/GameSale: 2885\n",
      "Active users in both communities: 452\n"
     ]
    }
   ],
   "source": [
    "print(\"Active users in r/GameSwap:\", len(swap_user))\n",
    "print(\"Active users in r/GameSale:\", len(sale_user))\n",
    "print(\"Active users in both communities:\", len(both_user))"
   ]
  },
  {
   "cell_type": "code",
   "execution_count": 14,
   "id": "b7172347-72dc-47cc-bb10-312d829a833d",
   "metadata": {
    "tags": []
   },
   "outputs": [
    {
     "data": {
      "text/html": [
       "<div>\n",
       "<style scoped>\n",
       "    .dataframe tbody tr th:only-of-type {\n",
       "        vertical-align: middle;\n",
       "    }\n",
       "\n",
       "    .dataframe tbody tr th {\n",
       "        vertical-align: top;\n",
       "    }\n",
       "\n",
       "    .dataframe thead th {\n",
       "        text-align: right;\n",
       "    }\n",
       "</style>\n",
       "<table border=\"1\" class=\"dataframe\">\n",
       "  <thead>\n",
       "    <tr style=\"text-align: right;\">\n",
       "      <th></th>\n",
       "      <th>user</th>\n",
       "      <th>index</th>\n",
       "      <th>author</th>\n",
       "      <th>body</th>\n",
       "      <th>created_utc</th>\n",
       "      <th>permalink</th>\n",
       "      <th>reply_author</th>\n",
       "      <th>reply_body</th>\n",
       "      <th>type</th>\n",
       "      <th>pred</th>\n",
       "      <th>subreddit</th>\n",
       "    </tr>\n",
       "  </thead>\n",
       "  <tbody>\n",
       "    <tr>\n",
       "      <th>6</th>\n",
       "      <td>rdmentalist</td>\n",
       "      <td>rdmentalist_2</td>\n",
       "      <td>MrAce2C</td>\n",
       "      <td>Successful trade with u/rdmentalist. Gave Gear...</td>\n",
       "      <td>2016-10-23 21:59:35</td>\n",
       "      <td>/r/gameswap/comments/543ojp/completed_trade_th...</td>\n",
       "      <td>rdmentalist</td>\n",
       "      <td>Confirmed.</td>\n",
       "      <td>gameswap</td>\n",
       "      <td>NaN</td>\n",
       "      <td>gameswap</td>\n",
       "    </tr>\n",
       "    <tr>\n",
       "      <th>9</th>\n",
       "      <td>rdmentalist</td>\n",
       "      <td>rdmentalist_5</td>\n",
       "      <td>TradlyGent</td>\n",
       "      <td>swapped a 20% PSN code for Gears of War 1 and ...</td>\n",
       "      <td>2018-07-03 17:19:14</td>\n",
       "      <td>/r/gameswap/comments/7q4pkv/completed_swap_thr...</td>\n",
       "      <td>rdmentalist</td>\n",
       "      <td>Confirmed.</td>\n",
       "      <td>gameswap</td>\n",
       "      <td>NaN</td>\n",
       "      <td>gameswap</td>\n",
       "    </tr>\n",
       "    <tr>\n",
       "      <th>10</th>\n",
       "      <td>rdmentalist</td>\n",
       "      <td>rdmentalist_6</td>\n",
       "      <td>keokidream</td>\n",
       "      <td>Successful trade with /u/rdmentalist\\n\\nCall o...</td>\n",
       "      <td>2016-06-17 14:54:23</td>\n",
       "      <td>/r/gameswap/comments/4c351t/completed_trade_th...</td>\n",
       "      <td>rdmentalist</td>\n",
       "      <td>Confirmed! thanks</td>\n",
       "      <td>gameswap</td>\n",
       "      <td>NaN</td>\n",
       "      <td>gameswap</td>\n",
       "    </tr>\n",
       "    <tr>\n",
       "      <th>11</th>\n",
       "      <td>rdmentalist</td>\n",
       "      <td>rdmentalist_7</td>\n",
       "      <td>testicles_two</td>\n",
       "      <td>Traded Gears of War 1,2,3 and Judgement for $1...</td>\n",
       "      <td>2016-06-23 23:55:01</td>\n",
       "      <td>/r/gameswap/comments/4c351t/completed_trade_th...</td>\n",
       "      <td>rdmentalist</td>\n",
       "      <td>Confirmed ! thanks</td>\n",
       "      <td>gameswap</td>\n",
       "      <td>NaN</td>\n",
       "      <td>gameswap</td>\n",
       "    </tr>\n",
       "    <tr>\n",
       "      <th>12</th>\n",
       "      <td>rdmentalist</td>\n",
       "      <td>rdmentalist_8</td>\n",
       "      <td>walterpwn</td>\n",
       "      <td>Successful trade with [/u/rdmentalist](https:/...</td>\n",
       "      <td>2016-05-12 19:43:00</td>\n",
       "      <td>/r/gameswap/comments/4c351t/completed_trade_th...</td>\n",
       "      <td>rdmentalist</td>\n",
       "      <td>Confirmed :)</td>\n",
       "      <td>gameswap</td>\n",
       "      <td>NaN</td>\n",
       "      <td>gameswap</td>\n",
       "    </tr>\n",
       "  </tbody>\n",
       "</table>\n",
       "</div>"
      ],
      "text/plain": [
       "           user          index         author  \\\n",
       "6   rdmentalist  rdmentalist_2        MrAce2C   \n",
       "9   rdmentalist  rdmentalist_5     TradlyGent   \n",
       "10  rdmentalist  rdmentalist_6     keokidream   \n",
       "11  rdmentalist  rdmentalist_7  testicles_two   \n",
       "12  rdmentalist  rdmentalist_8      walterpwn   \n",
       "\n",
       "                                                 body         created_utc  \\\n",
       "6   Successful trade with u/rdmentalist. Gave Gear... 2016-10-23 21:59:35   \n",
       "9   swapped a 20% PSN code for Gears of War 1 and ... 2018-07-03 17:19:14   \n",
       "10  Successful trade with /u/rdmentalist\\n\\nCall o... 2016-06-17 14:54:23   \n",
       "11  Traded Gears of War 1,2,3 and Judgement for $1... 2016-06-23 23:55:01   \n",
       "12  Successful trade with [/u/rdmentalist](https:/... 2016-05-12 19:43:00   \n",
       "\n",
       "                                            permalink reply_author  \\\n",
       "6   /r/gameswap/comments/543ojp/completed_trade_th...  rdmentalist   \n",
       "9   /r/gameswap/comments/7q4pkv/completed_swap_thr...  rdmentalist   \n",
       "10  /r/gameswap/comments/4c351t/completed_trade_th...  rdmentalist   \n",
       "11  /r/gameswap/comments/4c351t/completed_trade_th...  rdmentalist   \n",
       "12  /r/gameswap/comments/4c351t/completed_trade_th...  rdmentalist   \n",
       "\n",
       "            reply_body      type  pred subreddit  \n",
       "6           Confirmed.  gameswap   NaN  gameswap  \n",
       "9           Confirmed.  gameswap   NaN  gameswap  \n",
       "10   Confirmed! thanks  gameswap   NaN  gameswap  \n",
       "11  Confirmed ! thanks  gameswap   NaN  gameswap  \n",
       "12        Confirmed :)  gameswap   NaN  gameswap  "
      ]
     },
     "execution_count": 14,
     "metadata": {},
     "output_type": "execute_result"
    }
   ],
   "source": [
    "data.head()"
   ]
  },
  {
   "cell_type": "code",
   "execution_count": 15,
   "id": "ef6ec623-3288-4727-964e-5716793cfa51",
   "metadata": {},
   "outputs": [],
   "source": [
    "# Get the months in created_utc\n",
    "data['month']=data['created_utc'].dt.to_period('M')\n",
    "months = data['month'].sort_values().unique()\n"
   ]
  },
  {
   "cell_type": "code",
   "execution_count": 16,
   "id": "f31b86b6",
   "metadata": {},
   "outputs": [],
   "source": [
    "# Get the number of transactions in each month.\n",
    "# So we can see if two users have ever interacted in the given month.\n",
    "transaction_at_month = data.groupby(['author','reply_author','type','month']).size().reset_index(name='count')"
   ]
  },
  {
   "cell_type": "code",
   "execution_count": 17,
   "id": "55c136de",
   "metadata": {},
   "outputs": [
    {
     "data": {
      "text/html": [
       "<div>\n",
       "<style scoped>\n",
       "    .dataframe tbody tr th:only-of-type {\n",
       "        vertical-align: middle;\n",
       "    }\n",
       "\n",
       "    .dataframe tbody tr th {\n",
       "        vertical-align: top;\n",
       "    }\n",
       "\n",
       "    .dataframe thead th {\n",
       "        text-align: right;\n",
       "    }\n",
       "</style>\n",
       "<table border=\"1\" class=\"dataframe\">\n",
       "  <thead>\n",
       "    <tr style=\"text-align: right;\">\n",
       "      <th></th>\n",
       "      <th>author</th>\n",
       "      <th>reply_author</th>\n",
       "      <th>month</th>\n",
       "      <th>gamesale</th>\n",
       "      <th>gameswap</th>\n",
       "      <th>total</th>\n",
       "    </tr>\n",
       "  </thead>\n",
       "  <tbody>\n",
       "    <tr>\n",
       "      <th>0</th>\n",
       "      <td>--El_Duderino--</td>\n",
       "      <td>Battlehead</td>\n",
       "      <td>2018-01</td>\n",
       "      <td>0</td>\n",
       "      <td>2</td>\n",
       "      <td>2</td>\n",
       "    </tr>\n",
       "    <tr>\n",
       "      <th>1</th>\n",
       "      <td>--El_Duderino--</td>\n",
       "      <td>CBUSraver</td>\n",
       "      <td>2016-09</td>\n",
       "      <td>0</td>\n",
       "      <td>2</td>\n",
       "      <td>2</td>\n",
       "    </tr>\n",
       "    <tr>\n",
       "      <th>2</th>\n",
       "      <td>--El_Duderino--</td>\n",
       "      <td>ComedyChef</td>\n",
       "      <td>2016-05</td>\n",
       "      <td>0</td>\n",
       "      <td>2</td>\n",
       "      <td>2</td>\n",
       "    </tr>\n",
       "    <tr>\n",
       "      <th>3</th>\n",
       "      <td>--El_Duderino--</td>\n",
       "      <td>FriendToGiraffes</td>\n",
       "      <td>2017-03</td>\n",
       "      <td>0</td>\n",
       "      <td>2</td>\n",
       "      <td>2</td>\n",
       "    </tr>\n",
       "    <tr>\n",
       "      <th>4</th>\n",
       "      <td>--El_Duderino--</td>\n",
       "      <td>HowelPendragon</td>\n",
       "      <td>2016-11</td>\n",
       "      <td>2</td>\n",
       "      <td>0</td>\n",
       "      <td>2</td>\n",
       "    </tr>\n",
       "  </tbody>\n",
       "</table>\n",
       "</div>"
      ],
      "text/plain": [
       "            author      reply_author    month  gamesale  gameswap  total\n",
       "0  --El_Duderino--        Battlehead  2018-01         0         2      2\n",
       "1  --El_Duderino--         CBUSraver  2016-09         0         2      2\n",
       "2  --El_Duderino--        ComedyChef  2016-05         0         2      2\n",
       "3  --El_Duderino--  FriendToGiraffes  2017-03         0         2      2\n",
       "4  --El_Duderino--    HowelPendragon  2016-11         2         0      2"
      ]
     },
     "execution_count": 17,
     "metadata": {},
     "output_type": "execute_result"
    }
   ],
   "source": [
    "interactions = transaction_at_month.pivot(index=['author','reply_author','month'], columns='type', values='count').fillna(0).astype(int)\n",
    "interactions = interactions.reset_index().rename_axis(None, axis=1)\n",
    "interactions['total'] = interactions['gamesale'] + interactions['gameswap']\n",
    "interactions.head()"
   ]
  },
  {
   "cell_type": "code",
   "execution_count": 18,
   "id": "d8e150b9",
   "metadata": {},
   "outputs": [],
   "source": [
    "cumulative_transactions = {}\n",
    "for month in months:\n",
    "    cumulative_transactions[month] = data.loc[data['month']<=month].groupby(['user','type']).size().reset_index(name='count').pivot(index='user', columns='type', values='count').fillna(0).astype(int)\n",
    "    if 'gamesale' not in cumulative_transactions[month].columns:\n",
    "        cumulative_transactions[month]['gamesale']=0\n",
    "    cumulative_transactions[month]['total'] = cumulative_transactions[month]['gamesale']+cumulative_transactions[month]['gameswap']\n",
    "    cumulative_transactions[month] = cumulative_transactions[month].reset_index().rename_axis(None, axis=1)\n",
    "    "
   ]
  },
  {
   "attachments": {},
   "cell_type": "markdown",
   "id": "fc0dc81f",
   "metadata": {},
   "source": [
    "### 2.1 Get transactions tuple\n",
    "For each month $t$, if in month $t+1$, users $A$ and $B$ have an transaction, then we store tuple $(A_t, B_t, t)$, where $A_t$ is the number of cumulative transactions of user $A$ till month $t$."
   ]
  },
  {
   "cell_type": "code",
   "execution_count": 19,
   "id": "20b29e94",
   "metadata": {},
   "outputs": [],
   "source": [
    "# \n",
    "def merge_by_author(pre_month, current_month, current_data):\n",
    "    temp = pd.merge(current_data, cumulative_transactions[pre_month][['user','total']], left_on=current_data['author'].str.lower(), right_on='user', how='left')\n",
    "    final = pd.merge(temp, cumulative_transactions[pre_month][['user','total']], left_on=temp['reply_author'].str.lower(), right_on='user', how='left')\n",
    "    final = final.drop(['user','user_x','user_y'], axis=1)\n",
    "    final = final.rename(columns={'total_x':'author_total','total_y':'reply_author_total'})\n",
    "    final = final.fillna(0)\n",
    "    return final"
   ]
  },
  {
   "cell_type": "code",
   "execution_count": 20,
   "id": "0046a203",
   "metadata": {},
   "outputs": [],
   "source": [
    "df_all = []\n",
    "for pre_month, current_month in zip(months[::], months[1::]):\n",
    "    # Get the users who have interacted in the current month\n",
    "    current_data = interactions.loc[(interactions['month']==current_month)&(interactions['total']>=1)][['author','reply_author']]\n",
    "    \n",
    "    processed_current = merge_by_author(pre_month, current_month, current_data)\n",
    "    processed_current['month'] = pre_month\n",
    "    df_all.append(processed_current)\n",
    "\n",
    "df_all = pd.concat(df_all)"
   ]
  },
  {
   "cell_type": "code",
   "execution_count": 21,
   "id": "253785b1",
   "metadata": {},
   "outputs": [
    {
     "data": {
      "text/html": [
       "<div>\n",
       "<style scoped>\n",
       "    .dataframe tbody tr th:only-of-type {\n",
       "        vertical-align: middle;\n",
       "    }\n",
       "\n",
       "    .dataframe tbody tr th {\n",
       "        vertical-align: top;\n",
       "    }\n",
       "\n",
       "    .dataframe thead th {\n",
       "        text-align: right;\n",
       "    }\n",
       "</style>\n",
       "<table border=\"1\" class=\"dataframe\">\n",
       "  <thead>\n",
       "    <tr style=\"text-align: right;\">\n",
       "      <th></th>\n",
       "      <th>author</th>\n",
       "      <th>reply_author</th>\n",
       "      <th>author_total</th>\n",
       "      <th>reply_author_total</th>\n",
       "      <th>month</th>\n",
       "      <th>year</th>\n",
       "    </tr>\n",
       "  </thead>\n",
       "  <tbody>\n",
       "    <tr>\n",
       "      <th>0</th>\n",
       "      <td>3GSid</td>\n",
       "      <td>marcymarcmarc</td>\n",
       "      <td>2.0</td>\n",
       "      <td>5.0</td>\n",
       "      <td>2013-10</td>\n",
       "      <td>2013</td>\n",
       "    </tr>\n",
       "    <tr>\n",
       "      <th>1</th>\n",
       "      <td>Arcanis888</td>\n",
       "      <td>0nlyher0</td>\n",
       "      <td>1.0</td>\n",
       "      <td>1.0</td>\n",
       "      <td>2013-10</td>\n",
       "      <td>2013</td>\n",
       "    </tr>\n",
       "    <tr>\n",
       "      <th>2</th>\n",
       "      <td>Autoham</td>\n",
       "      <td>rheally</td>\n",
       "      <td>2.0</td>\n",
       "      <td>0.0</td>\n",
       "      <td>2013-10</td>\n",
       "      <td>2013</td>\n",
       "    </tr>\n",
       "    <tr>\n",
       "      <th>3</th>\n",
       "      <td>Beatenwolf</td>\n",
       "      <td>LastSwordSaint</td>\n",
       "      <td>1.0</td>\n",
       "      <td>0.0</td>\n",
       "      <td>2013-10</td>\n",
       "      <td>2013</td>\n",
       "    </tr>\n",
       "    <tr>\n",
       "      <th>4</th>\n",
       "      <td>Beatenwolf</td>\n",
       "      <td>guineapigtacosauce</td>\n",
       "      <td>1.0</td>\n",
       "      <td>4.0</td>\n",
       "      <td>2013-10</td>\n",
       "      <td>2013</td>\n",
       "    </tr>\n",
       "    <tr>\n",
       "      <th>...</th>\n",
       "      <td>...</td>\n",
       "      <td>...</td>\n",
       "      <td>...</td>\n",
       "      <td>...</td>\n",
       "      <td>...</td>\n",
       "      <td>...</td>\n",
       "    </tr>\n",
       "    <tr>\n",
       "      <th>296</th>\n",
       "      <td>yugidementia</td>\n",
       "      <td>Lucario_ftw</td>\n",
       "      <td>3.0</td>\n",
       "      <td>2.0</td>\n",
       "      <td>2018-11</td>\n",
       "      <td>2018</td>\n",
       "    </tr>\n",
       "    <tr>\n",
       "      <th>297</th>\n",
       "      <td>yugidementia</td>\n",
       "      <td>Stela_Thylacine</td>\n",
       "      <td>3.0</td>\n",
       "      <td>0.0</td>\n",
       "      <td>2018-11</td>\n",
       "      <td>2018</td>\n",
       "    </tr>\n",
       "    <tr>\n",
       "      <th>298</th>\n",
       "      <td>yugidementia</td>\n",
       "      <td>arandomuzzerame</td>\n",
       "      <td>3.0</td>\n",
       "      <td>36.0</td>\n",
       "      <td>2018-11</td>\n",
       "      <td>2018</td>\n",
       "    </tr>\n",
       "    <tr>\n",
       "      <th>299</th>\n",
       "      <td>yugidementia</td>\n",
       "      <td>bulldawgblitz</td>\n",
       "      <td>3.0</td>\n",
       "      <td>14.0</td>\n",
       "      <td>2018-11</td>\n",
       "      <td>2018</td>\n",
       "    </tr>\n",
       "    <tr>\n",
       "      <th>300</th>\n",
       "      <td>yugidementia</td>\n",
       "      <td>doctorquien28</td>\n",
       "      <td>3.0</td>\n",
       "      <td>11.0</td>\n",
       "      <td>2018-11</td>\n",
       "      <td>2018</td>\n",
       "    </tr>\n",
       "  </tbody>\n",
       "</table>\n",
       "<p>13927 rows × 6 columns</p>\n",
       "</div>"
      ],
      "text/plain": [
       "           author        reply_author  author_total  reply_author_total  \\\n",
       "0           3GSid       marcymarcmarc           2.0                 5.0   \n",
       "1      Arcanis888            0nlyher0           1.0                 1.0   \n",
       "2         Autoham             rheally           2.0                 0.0   \n",
       "3      Beatenwolf      LastSwordSaint           1.0                 0.0   \n",
       "4      Beatenwolf  guineapigtacosauce           1.0                 4.0   \n",
       "..            ...                 ...           ...                 ...   \n",
       "296  yugidementia         Lucario_ftw           3.0                 2.0   \n",
       "297  yugidementia     Stela_Thylacine           3.0                 0.0   \n",
       "298  yugidementia     arandomuzzerame           3.0                36.0   \n",
       "299  yugidementia       bulldawgblitz           3.0                14.0   \n",
       "300  yugidementia       doctorquien28           3.0                11.0   \n",
       "\n",
       "       month  year  \n",
       "0    2013-10  2013  \n",
       "1    2013-10  2013  \n",
       "2    2013-10  2013  \n",
       "3    2013-10  2013  \n",
       "4    2013-10  2013  \n",
       "..       ...   ...  \n",
       "296  2018-11  2018  \n",
       "297  2018-11  2018  \n",
       "298  2018-11  2018  \n",
       "299  2018-11  2018  \n",
       "300  2018-11  2018  \n",
       "\n",
       "[13927 rows x 6 columns]"
      ]
     },
     "execution_count": 21,
     "metadata": {},
     "output_type": "execute_result"
    }
   ],
   "source": [
    "# Add a column of year\n",
    "df_all['year'] = df_all['month'].dt.year\n",
    "df_all"
   ]
  },
  {
   "cell_type": "code",
   "execution_count": 22,
   "id": "0d75c7eb",
   "metadata": {},
   "outputs": [],
   "source": [
    "# Reverse column 1 and 2,  3 and 4\n",
    "df_all_reverse = df_all.copy()\n",
    "df_all_reverse[['author','reply_author']] = df_all_reverse[['reply_author','author']]\n",
    "df_all_reverse[['author_total','reply_author_total']] = df_all_reverse[['reply_author_total','author_total']]\n",
    "\n",
    "df = pd.concat([df_all, df_all_reverse])"
   ]
  },
  {
   "cell_type": "code",
   "execution_count": 112,
   "id": "2717cee0",
   "metadata": {},
   "outputs": [],
   "source": [
    "\n",
    "# sns.set_style(\"whitegrid\")\n",
    "# plt.figure(figsize=(10,5))\n",
    "# sns.histplot(cum_2014['reply_author_total'], kde=False, binwidth=1, label='2014', color='blue')\n",
    "# sns.histplot(cum_2015['reply_author_total'], kde=False, binwidth=1,label='2015', color='red')\n",
    "# plt.xlabel(\"Total transactions of another user\")\n",
    "# plt.legend(['2014','2015'])\n",
    "\n",
    "# plt.ylabel(\"Count\")\n",
    "# plt.show()"
   ]
  },
  {
   "cell_type": "code",
   "execution_count": 33,
   "id": "8ea96f61",
   "metadata": {},
   "outputs": [],
   "source": [
    "# Get author_total == 1\n",
    "cum_year = df.loc[(df['author_total']<=0) & (df['reply_author_total']<=100)]\n",
    "data_to_plot = [cum_year.loc[cum_year['year']==year,'reply_author_total'] for year in range(2014,2019)]\n"
   ]
  },
  {
   "cell_type": "code",
   "execution_count": 44,
   "id": "4c4c030a",
   "metadata": {},
   "outputs": [
    {
     "data": {
      "text/html": [
       "<div>\n",
       "<style scoped>\n",
       "    .dataframe tbody tr th:only-of-type {\n",
       "        vertical-align: middle;\n",
       "    }\n",
       "\n",
       "    .dataframe tbody tr th {\n",
       "        vertical-align: top;\n",
       "    }\n",
       "\n",
       "    .dataframe thead th {\n",
       "        text-align: right;\n",
       "    }\n",
       "</style>\n",
       "<table border=\"1\" class=\"dataframe\">\n",
       "  <thead>\n",
       "    <tr style=\"text-align: right;\">\n",
       "      <th></th>\n",
       "      <th>author</th>\n",
       "      <th>reply_author</th>\n",
       "      <th>author_total</th>\n",
       "      <th>reply_author_total</th>\n",
       "      <th>month</th>\n",
       "      <th>year</th>\n",
       "    </tr>\n",
       "  </thead>\n",
       "  <tbody>\n",
       "    <tr>\n",
       "      <th>2</th>\n",
       "      <td>Baron_Of_Bad_News</td>\n",
       "      <td>amb3rly11</td>\n",
       "      <td>0.0</td>\n",
       "      <td>0.0</td>\n",
       "      <td>2014-01</td>\n",
       "      <td>2014</td>\n",
       "    </tr>\n",
       "    <tr>\n",
       "      <th>12</th>\n",
       "      <td>Discr1m</td>\n",
       "      <td>SirSparkle</td>\n",
       "      <td>0.0</td>\n",
       "      <td>1.0</td>\n",
       "      <td>2014-01</td>\n",
       "      <td>2014</td>\n",
       "    </tr>\n",
       "    <tr>\n",
       "      <th>23</th>\n",
       "      <td>FezMdogg</td>\n",
       "      <td>Wint3riscoming</td>\n",
       "      <td>0.0</td>\n",
       "      <td>4.0</td>\n",
       "      <td>2014-01</td>\n",
       "      <td>2014</td>\n",
       "    </tr>\n",
       "    <tr>\n",
       "      <th>24</th>\n",
       "      <td>GodS1N</td>\n",
       "      <td>thesneak155</td>\n",
       "      <td>0.0</td>\n",
       "      <td>3.0</td>\n",
       "      <td>2014-01</td>\n",
       "      <td>2014</td>\n",
       "    </tr>\n",
       "    <tr>\n",
       "      <th>25</th>\n",
       "      <td>Hourglvss</td>\n",
       "      <td>amb3rly11</td>\n",
       "      <td>0.0</td>\n",
       "      <td>0.0</td>\n",
       "      <td>2014-01</td>\n",
       "      <td>2014</td>\n",
       "    </tr>\n",
       "    <tr>\n",
       "      <th>...</th>\n",
       "      <td>...</td>\n",
       "      <td>...</td>\n",
       "      <td>...</td>\n",
       "      <td>...</td>\n",
       "      <td>...</td>\n",
       "      <td>...</td>\n",
       "    </tr>\n",
       "    <tr>\n",
       "      <th>164</th>\n",
       "      <td>Izodius</td>\n",
       "      <td>slimrider94</td>\n",
       "      <td>0.0</td>\n",
       "      <td>0.0</td>\n",
       "      <td>2014-12</td>\n",
       "      <td>2014</td>\n",
       "    </tr>\n",
       "    <tr>\n",
       "      <th>167</th>\n",
       "      <td>PatchworkGuilt</td>\n",
       "      <td>tehrealpotato</td>\n",
       "      <td>0.0</td>\n",
       "      <td>0.0</td>\n",
       "      <td>2014-12</td>\n",
       "      <td>2014</td>\n",
       "    </tr>\n",
       "    <tr>\n",
       "      <th>169</th>\n",
       "      <td>jlusedude</td>\n",
       "      <td>tingmakpuk</td>\n",
       "      <td>0.0</td>\n",
       "      <td>0.0</td>\n",
       "      <td>2014-12</td>\n",
       "      <td>2014</td>\n",
       "    </tr>\n",
       "    <tr>\n",
       "      <th>172</th>\n",
       "      <td>DopeFishIsBack</td>\n",
       "      <td>xGwiZ96x</td>\n",
       "      <td>0.0</td>\n",
       "      <td>0.0</td>\n",
       "      <td>2014-12</td>\n",
       "      <td>2014</td>\n",
       "    </tr>\n",
       "    <tr>\n",
       "      <th>173</th>\n",
       "      <td>Ragi23</td>\n",
       "      <td>xGwiZ96x</td>\n",
       "      <td>0.0</td>\n",
       "      <td>0.0</td>\n",
       "      <td>2014-12</td>\n",
       "      <td>2014</td>\n",
       "    </tr>\n",
       "  </tbody>\n",
       "</table>\n",
       "<p>1066 rows × 6 columns</p>\n",
       "</div>"
      ],
      "text/plain": [
       "                author    reply_author  author_total  reply_author_total  \\\n",
       "2    Baron_Of_Bad_News       amb3rly11           0.0                 0.0   \n",
       "12             Discr1m      SirSparkle           0.0                 1.0   \n",
       "23            FezMdogg  Wint3riscoming           0.0                 4.0   \n",
       "24              GodS1N     thesneak155           0.0                 3.0   \n",
       "25           Hourglvss       amb3rly11           0.0                 0.0   \n",
       "..                 ...             ...           ...                 ...   \n",
       "164            Izodius     slimrider94           0.0                 0.0   \n",
       "167     PatchworkGuilt   tehrealpotato           0.0                 0.0   \n",
       "169          jlusedude      tingmakpuk           0.0                 0.0   \n",
       "172     DopeFishIsBack        xGwiZ96x           0.0                 0.0   \n",
       "173             Ragi23        xGwiZ96x           0.0                 0.0   \n",
       "\n",
       "       month  year  \n",
       "2    2014-01  2014  \n",
       "12   2014-01  2014  \n",
       "23   2014-01  2014  \n",
       "24   2014-01  2014  \n",
       "25   2014-01  2014  \n",
       "..       ...   ...  \n",
       "164  2014-12  2014  \n",
       "167  2014-12  2014  \n",
       "169  2014-12  2014  \n",
       "172  2014-12  2014  \n",
       "173  2014-12  2014  \n",
       "\n",
       "[1066 rows x 6 columns]"
      ]
     },
     "execution_count": 44,
     "metadata": {},
     "output_type": "execute_result"
    }
   ],
   "source": [
    "cum_year.loc[(cum_year['year']==2014)&(cum_year['reply_author_total']<=5)]"
   ]
  },
  {
   "cell_type": "code",
   "execution_count": 47,
   "id": "088c09b2",
   "metadata": {},
   "outputs": [
    {
     "data": {
      "text/plain": [
       "<matplotlib.legend.Legend at 0x7f5ee1c8a110>"
      ]
     },
     "execution_count": 47,
     "metadata": {},
     "output_type": "execute_result"
    },
    {
     "data": {
      "image/png": "[encoded data removed]",
      "text/plain": [
       "<Figure size 640x480 with 1 Axes>"
      ]
     },
     "metadata": {},
     "output_type": "display_data"
    }
   ],
   "source": [
    "plt.hist(data_to_plot,  alpha=0.5, label=[2014,2015,2016,2017,2018], bins=range(0,50,1),stacked=True)\n",
    "plt.legend(loc='upper right')"
   ]
  },
  {
   "cell_type": "code",
   "execution_count": 184,
   "id": "3679d4d9",
   "metadata": {},
   "outputs": [
    {
     "data": {
      "image/png": "[encoded data removed]",
      "text/plain": [
       "<Figure size 640x480 with 1 Axes>"
      ]
     },
     "metadata": {},
     "output_type": "display_data"
    }
   ],
   "source": [
    "import matplotlib.pyplot as plt\n",
    "import numpy as np\n",
    "\n",
    "# Generate some sample data for different years\n",
    "data_2019 = np.random.normal(50, 10, 1000)\n",
    "data_2020 = np.random.normal(55, 15, 1000)\n",
    "data_2021 = np.random.normal(60, 12, 1000)\n",
    "\n",
    "# Combine the data into a list\n",
    "data = [data_2019, data_2020, data_2021]\n",
    "\n",
    "# Set the bins and range for the histogram\n",
    "bins = 30\n",
    "range = (0, 100)\n",
    "\n",
    "# Plot the histogram\n",
    "plt.hist(data, bins=bins, range=range, color=['r', 'g', 'b'], alpha=0.5, label=['2019', '2020', '2021'])\n",
    "plt.legend(loc='upper right')\n",
    "plt.xlabel('Value')\n",
    "plt.ylabel('Frequency')\n",
    "plt.title('Histogram of data by year')\n",
    "plt.show()\n"
   ]
  }
 ],
 "metadata": {
  "kernelspec": {
   "display_name": "Python 3 (ipykernel)",
   "language": "python",
   "name": "python3"
  },
  "language_info": {
   "codemirror_mode": {
    "name": "ipython",
    "version": 3
   },
   "file_extension": ".py",
   "mimetype": "text/x-python",
   "name": "python",
   "nbconvert_exporter": "python",
   "pygments_lexer": "ipython3",
   "version": "3.10.10"
  }
 },
 "nbformat": 4,
 "nbformat_minor": 5
}
