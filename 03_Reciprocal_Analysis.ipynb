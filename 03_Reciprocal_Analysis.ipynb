{
 "cells": [
  {
   "cell_type": "markdown",
   "id": "7573226d-4f44-48af-8182-af60034f78bb",
   "metadata": {},
   "source": [
    "# Reciprocal Relationship between Bartering and Selling\n",
    "- When it comes to game exchange, do people prefer to exchange the game with someone who has exchanged before or someone who has not exchanged before? \n",
    "- What's the difference between game sales and game exchange?\n",
    "\n",
    "Here, we use logistic regression."
   ]
  },
  {
   "cell_type": "markdown",
   "id": "97677bf2-13a7-41f8-8b25-baede2051ab4",
   "metadata": {},
   "source": [
    "## 0. Load the data"
   ]
  },
  {
   "cell_type": "code",
   "execution_count": 99,
   "id": "a5a3804c-af85-4d23-9422-9f5cece76576",
   "metadata": {
    "tags": [],
    "vscode": {
     "languageId": "python"
    }
   },
   "outputs": [],
   "source": [
    "import pandas as pd\n",
    "import pickle\n",
    "import matplotlib.pyplot as plt\n",
    "import seaborn as sns"
   ]
  },
  {
   "cell_type": "code",
   "execution_count": 100,
   "id": "77cfd091",
   "metadata": {
    "vscode": {
     "languageId": "python"
    }
   },
   "outputs": [],
   "source": [
    "# Load the data from pickle file\n",
    "with open('data/transaction_history_all.pickle', 'rb') as f:\n",
    "    data_with_user = pickle.load(f)\n",
    "\n",
    "# Choose only the data before 2019-01-01\n",
    "data_with_user = data_with_user.loc[data_with_user['created_utc']<='2018-12-31']"
   ]
  },
  {
   "cell_type": "code",
   "execution_count": 101,
   "id": "bd67c247-30e0-4584-adb6-3b2ccff6cbdb",
   "metadata": {
    "tags": [],
    "vscode": {
     "languageId": "python"
    }
   },
   "outputs": [
    {
     "data": {
      "text/html": [
       "<div>\n",
       "<style scoped>\n",
       "    .dataframe tbody tr th:only-of-type {\n",
       "        vertical-align: middle;\n",
       "    }\n",
       "\n",
       "    .dataframe tbody tr th {\n",
       "        vertical-align: top;\n",
       "    }\n",
       "\n",
       "    .dataframe thead th {\n",
       "        text-align: right;\n",
       "    }\n",
       "</style>\n",
       "<table border=\"1\" class=\"dataframe\">\n",
       "  <thead>\n",
       "    <tr style=\"text-align: right;\">\n",
       "      <th></th>\n",
       "      <th>index</th>\n",
       "      <th>author</th>\n",
       "      <th>body</th>\n",
       "      <th>created_utc</th>\n",
       "      <th>permalink</th>\n",
       "      <th>reply_author</th>\n",
       "      <th>reply_body</th>\n",
       "      <th>type</th>\n",
       "      <th>url</th>\n",
       "      <th>created_utc_original</th>\n",
       "    </tr>\n",
       "  </thead>\n",
       "  <tbody>\n",
       "    <tr>\n",
       "      <th>0</th>\n",
       "      <td>mjwright412_0</td>\n",
       "      <td>ACM1899</td>\n",
       "      <td>Sold Mario Kart Double Dash to /u/mjwright412 ...</td>\n",
       "      <td>2016-05-28 15:24:00</td>\n",
       "      <td>/r/GameSale/comments/4c34l2/completed_trade_th...</td>\n",
       "      <td>mjwright412</td>\n",
       "      <td>Confirmed!</td>\n",
       "      <td>gamesale</td>\n",
       "      <td>r/GameSale/comments/4hdn0z</td>\n",
       "      <td>2016-05-02 02:37:22</td>\n",
       "    </tr>\n",
       "    <tr>\n",
       "      <th>1</th>\n",
       "      <td>mjwright412_1</td>\n",
       "      <td>TearsOfARapper84</td>\n",
       "      <td>Successful sale of Watch Dogs 2 Gold Edition P...</td>\n",
       "      <td>2016-12-20 18:37:19</td>\n",
       "      <td>/r/GameSale/comments/543odh/completed_trade_th...</td>\n",
       "      <td>mjwright412</td>\n",
       "      <td>Confirmed. Awesome person, no hassle and would...</td>\n",
       "      <td>gamesale</td>\n",
       "      <td>r/GameSale/comments/5j8grc</td>\n",
       "      <td>2016-12-19 19:47:10</td>\n",
       "    </tr>\n",
       "    <tr>\n",
       "      <th>4</th>\n",
       "      <td>rdmentalist_0</td>\n",
       "      <td>Barbecue_Wings</td>\n",
       "      <td>Successfull swap of Rocket League on XB1 for $...</td>\n",
       "      <td>2016-08-30 16:31:14</td>\n",
       "      <td>/r/GameSale/comments/4c34l2/completed_trade_th...</td>\n",
       "      <td>rdmentalist</td>\n",
       "      <td>Confirmed, thanks</td>\n",
       "      <td>gamesale</td>\n",
       "      <td>r/gameswap/comments/5072ge</td>\n",
       "      <td>2016-08-29 20:15:30</td>\n",
       "    </tr>\n",
       "    <tr>\n",
       "      <th>5</th>\n",
       "      <td>rdmentalist_1</td>\n",
       "      <td>wilbursmith22</td>\n",
       "      <td>Completed trade with u/rdmentalist\\n\\nLast Gua...</td>\n",
       "      <td>2017-06-30 22:40:47</td>\n",
       "      <td>/r/GameSale/comments/6jbqrp/completed_sale_thr...</td>\n",
       "      <td>rdmentalist</td>\n",
       "      <td>Confirmed, thanks</td>\n",
       "      <td>gamesale</td>\n",
       "      <td>r/gameswap/comments/6k4yms</td>\n",
       "      <td>2017-06-29 00:54:10</td>\n",
       "    </tr>\n",
       "    <tr>\n",
       "      <th>6</th>\n",
       "      <td>rdmentalist_2</td>\n",
       "      <td>MrAce2C</td>\n",
       "      <td>Successful trade with u/rdmentalist. Gave Gear...</td>\n",
       "      <td>2016-10-23 21:59:35</td>\n",
       "      <td>/r/gameswap/comments/543ojp/completed_trade_th...</td>\n",
       "      <td>rdmentalist</td>\n",
       "      <td>Confirmed.</td>\n",
       "      <td>gameswap</td>\n",
       "      <td>r/gameswap/comments/5906ut</td>\n",
       "      <td>2016-10-23 19:16:49</td>\n",
       "    </tr>\n",
       "  </tbody>\n",
       "</table>\n",
       "</div>"
      ],
      "text/plain": [
       "           index            author  \\\n",
       "0  mjwright412_0           ACM1899   \n",
       "1  mjwright412_1  TearsOfARapper84   \n",
       "4  rdmentalist_0    Barbecue_Wings   \n",
       "5  rdmentalist_1     wilbursmith22   \n",
       "6  rdmentalist_2           MrAce2C   \n",
       "\n",
       "                                                body         created_utc  \\\n",
       "0  Sold Mario Kart Double Dash to /u/mjwright412 ... 2016-05-28 15:24:00   \n",
       "1  Successful sale of Watch Dogs 2 Gold Edition P... 2016-12-20 18:37:19   \n",
       "4  Successfull swap of Rocket League on XB1 for $... 2016-08-30 16:31:14   \n",
       "5  Completed trade with u/rdmentalist\\n\\nLast Gua... 2017-06-30 22:40:47   \n",
       "6  Successful trade with u/rdmentalist. Gave Gear... 2016-10-23 21:59:35   \n",
       "\n",
       "                                           permalink reply_author  \\\n",
       "0  /r/GameSale/comments/4c34l2/completed_trade_th...  mjwright412   \n",
       "1  /r/GameSale/comments/543odh/completed_trade_th...  mjwright412   \n",
       "4  /r/GameSale/comments/4c34l2/completed_trade_th...  rdmentalist   \n",
       "5  /r/GameSale/comments/6jbqrp/completed_sale_thr...  rdmentalist   \n",
       "6  /r/gameswap/comments/543ojp/completed_trade_th...  rdmentalist   \n",
       "\n",
       "                                          reply_body      type  \\\n",
       "0                                         Confirmed!  gamesale   \n",
       "1  Confirmed. Awesome person, no hassle and would...  gamesale   \n",
       "4                                  Confirmed, thanks  gamesale   \n",
       "5                                 Confirmed, thanks   gamesale   \n",
       "6                                         Confirmed.  gameswap   \n",
       "\n",
       "                          url created_utc_original  \n",
       "0  r/GameSale/comments/4hdn0z  2016-05-02 02:37:22  \n",
       "1  r/GameSale/comments/5j8grc  2016-12-19 19:47:10  \n",
       "4  r/gameswap/comments/5072ge  2016-08-29 20:15:30  \n",
       "5  r/gameswap/comments/6k4yms  2017-06-29 00:54:10  \n",
       "6  r/gameswap/comments/5906ut  2016-10-23 19:16:49  "
      ]
     },
     "execution_count": 101,
     "metadata": {},
     "output_type": "execute_result"
    }
   ],
   "source": [
    "with open((\"./data/df_pre2019_original.pickle\"), 'rb') as handle:\n",
    "     data_with_original = pickle.load(handle)\n",
    "data_with_original.head()"
   ]
  },
  {
   "cell_type": "code",
   "execution_count": 102,
   "id": "96ea04e8",
   "metadata": {
    "vscode": {
     "languageId": "python"
    }
   },
   "outputs": [
    {
     "data": {
      "text/html": [
       "<div>\n",
       "<style scoped>\n",
       "    .dataframe tbody tr th:only-of-type {\n",
       "        vertical-align: middle;\n",
       "    }\n",
       "\n",
       "    .dataframe tbody tr th {\n",
       "        vertical-align: top;\n",
       "    }\n",
       "\n",
       "    .dataframe thead th {\n",
       "        text-align: right;\n",
       "    }\n",
       "</style>\n",
       "<table border=\"1\" class=\"dataframe\">\n",
       "  <thead>\n",
       "    <tr style=\"text-align: right;\">\n",
       "      <th></th>\n",
       "      <th>index</th>\n",
       "      <th>author</th>\n",
       "      <th>body</th>\n",
       "      <th>created_utc</th>\n",
       "      <th>permalink</th>\n",
       "      <th>reply_author</th>\n",
       "      <th>reply_body</th>\n",
       "      <th>type</th>\n",
       "      <th>url</th>\n",
       "      <th>created_utc_original</th>\n",
       "      <th>user</th>\n",
       "    </tr>\n",
       "  </thead>\n",
       "  <tbody>\n",
       "    <tr>\n",
       "      <th>0</th>\n",
       "      <td>mjwright412_0</td>\n",
       "      <td>ACM1899</td>\n",
       "      <td>Sold Mario Kart Double Dash to /u/mjwright412 ...</td>\n",
       "      <td>2016-05-28 15:24:00</td>\n",
       "      <td>/r/GameSale/comments/4c34l2/completed_trade_th...</td>\n",
       "      <td>mjwright412</td>\n",
       "      <td>Confirmed!</td>\n",
       "      <td>gamesale</td>\n",
       "      <td>r/GameSale/comments/4hdn0z</td>\n",
       "      <td>2016-05-02 02:37:22</td>\n",
       "      <td>mjwright412</td>\n",
       "    </tr>\n",
       "    <tr>\n",
       "      <th>1</th>\n",
       "      <td>mjwright412_1</td>\n",
       "      <td>TearsOfARapper84</td>\n",
       "      <td>Successful sale of Watch Dogs 2 Gold Edition P...</td>\n",
       "      <td>2016-12-20 18:37:19</td>\n",
       "      <td>/r/GameSale/comments/543odh/completed_trade_th...</td>\n",
       "      <td>mjwright412</td>\n",
       "      <td>Confirmed. Awesome person, no hassle and would...</td>\n",
       "      <td>gamesale</td>\n",
       "      <td>r/GameSale/comments/5j8grc</td>\n",
       "      <td>2016-12-19 19:47:10</td>\n",
       "      <td>mjwright412</td>\n",
       "    </tr>\n",
       "    <tr>\n",
       "      <th>4</th>\n",
       "      <td>rdmentalist_0</td>\n",
       "      <td>Barbecue_Wings</td>\n",
       "      <td>Successfull swap of Rocket League on XB1 for $...</td>\n",
       "      <td>2016-08-30 16:31:14</td>\n",
       "      <td>/r/GameSale/comments/4c34l2/completed_trade_th...</td>\n",
       "      <td>rdmentalist</td>\n",
       "      <td>Confirmed, thanks</td>\n",
       "      <td>gamesale</td>\n",
       "      <td>r/gameswap/comments/5072ge</td>\n",
       "      <td>2016-08-29 20:15:30</td>\n",
       "      <td>rdmentalist</td>\n",
       "    </tr>\n",
       "    <tr>\n",
       "      <th>5</th>\n",
       "      <td>rdmentalist_1</td>\n",
       "      <td>wilbursmith22</td>\n",
       "      <td>Completed trade with u/rdmentalist\\n\\nLast Gua...</td>\n",
       "      <td>2017-06-30 22:40:47</td>\n",
       "      <td>/r/GameSale/comments/6jbqrp/completed_sale_thr...</td>\n",
       "      <td>rdmentalist</td>\n",
       "      <td>Confirmed, thanks</td>\n",
       "      <td>gamesale</td>\n",
       "      <td>r/gameswap/comments/6k4yms</td>\n",
       "      <td>2017-06-29 00:54:10</td>\n",
       "      <td>rdmentalist</td>\n",
       "    </tr>\n",
       "    <tr>\n",
       "      <th>6</th>\n",
       "      <td>rdmentalist_2</td>\n",
       "      <td>MrAce2C</td>\n",
       "      <td>Successful trade with u/rdmentalist. Gave Gear...</td>\n",
       "      <td>2016-10-23 21:59:35</td>\n",
       "      <td>/r/gameswap/comments/543ojp/completed_trade_th...</td>\n",
       "      <td>rdmentalist</td>\n",
       "      <td>Confirmed.</td>\n",
       "      <td>gameswap</td>\n",
       "      <td>r/gameswap/comments/5906ut</td>\n",
       "      <td>2016-10-23 19:16:49</td>\n",
       "      <td>rdmentalist</td>\n",
       "    </tr>\n",
       "  </tbody>\n",
       "</table>\n",
       "</div>"
      ],
      "text/plain": [
       "           index            author  \\\n",
       "0  mjwright412_0           ACM1899   \n",
       "1  mjwright412_1  TearsOfARapper84   \n",
       "4  rdmentalist_0    Barbecue_Wings   \n",
       "5  rdmentalist_1     wilbursmith22   \n",
       "6  rdmentalist_2           MrAce2C   \n",
       "\n",
       "                                                body         created_utc  \\\n",
       "0  Sold Mario Kart Double Dash to /u/mjwright412 ... 2016-05-28 15:24:00   \n",
       "1  Successful sale of Watch Dogs 2 Gold Edition P... 2016-12-20 18:37:19   \n",
       "4  Successfull swap of Rocket League on XB1 for $... 2016-08-30 16:31:14   \n",
       "5  Completed trade with u/rdmentalist\\n\\nLast Gua... 2017-06-30 22:40:47   \n",
       "6  Successful trade with u/rdmentalist. Gave Gear... 2016-10-23 21:59:35   \n",
       "\n",
       "                                           permalink reply_author  \\\n",
       "0  /r/GameSale/comments/4c34l2/completed_trade_th...  mjwright412   \n",
       "1  /r/GameSale/comments/543odh/completed_trade_th...  mjwright412   \n",
       "4  /r/GameSale/comments/4c34l2/completed_trade_th...  rdmentalist   \n",
       "5  /r/GameSale/comments/6jbqrp/completed_sale_thr...  rdmentalist   \n",
       "6  /r/gameswap/comments/543ojp/completed_trade_th...  rdmentalist   \n",
       "\n",
       "                                          reply_body      type  \\\n",
       "0                                         Confirmed!  gamesale   \n",
       "1  Confirmed. Awesome person, no hassle and would...  gamesale   \n",
       "4                                  Confirmed, thanks  gamesale   \n",
       "5                                 Confirmed, thanks   gamesale   \n",
       "6                                         Confirmed.  gameswap   \n",
       "\n",
       "                          url created_utc_original         user  \n",
       "0  r/GameSale/comments/4hdn0z  2016-05-02 02:37:22  mjwright412  \n",
       "1  r/GameSale/comments/5j8grc  2016-12-19 19:47:10  mjwright412  \n",
       "4  r/gameswap/comments/5072ge  2016-08-29 20:15:30  rdmentalist  \n",
       "5  r/gameswap/comments/6k4yms  2017-06-29 00:54:10  rdmentalist  \n",
       "6  r/gameswap/comments/5906ut  2016-10-23 19:16:49  rdmentalist  "
      ]
     },
     "metadata": {},
     "output_type": "display_data"
    }
   ],
   "source": [
    "data_with_original['user']=data_with_user['user']\n",
    "data = data_with_original.copy()\n",
    "display(data.head())"
   ]
  },
  {
   "cell_type": "markdown",
   "id": "64cb52f8-ca43-496b-bd5a-be409697e3ae",
   "metadata": {},
   "source": [
    "## 1. Preprocessing\n",
    "- The bot may record wrongly the confirmantion.\n",
    "- Some Reddit users may delete their accounts.\n",
    "\n",
    "**We ignore these cases by deleting these rows.**"
   ]
  },
  {
   "cell_type": "code",
   "execution_count": 103,
   "id": "2922331b",
   "metadata": {
    "vscode": {
     "languageId": "python"
    }
   },
   "outputs": [
    {
     "name": "stdout",
     "output_type": "stream",
     "text": [
      "Number of deleted users:  1514\n",
      "Remaining rows of confirmantion data: 27188\n"
     ]
    }
   ],
   "source": [
    "# Select the rows that have a user that is not deleted.\n",
    "data = data.loc[~data['user'].isna()]\n",
    "\n",
    "print(\"Number of deleted users: \", data.loc[(data['author']=='[deleted]')|(data['reply_author']=='[deleted]')].shape[0])\n",
    "data = data.loc[(data['author']!='[deleted]') & (data['reply_author']!='[deleted]')]\n",
    "\n",
    "print(\"Remaining rows of confirmantion data:\", data.shape[0])\n",
    "# data['created_utc'].describe(datetime_is_numeric=True)"
   ]
  },
  {
   "attachments": {},
   "cell_type": "markdown",
   "id": "4a0f4443-00a2-4b80-8469-5a487edd6c29",
   "metadata": {},
   "source": [
    "## 2. Active users"
   ]
  },
  {
   "cell_type": "code",
   "execution_count": 104,
   "id": "129acb05-9f20-444b-b935-547e06273936",
   "metadata": {
    "tags": [],
    "vscode": {
     "languageId": "python"
    }
   },
   "outputs": [
    {
     "name": "stdout",
     "output_type": "stream",
     "text": [
      "Active users in r/GameSwap: 1380\n",
      "Active users in r/GameSale: 2683\n",
      "Active users in both communities: 424\n"
     ]
    }
   ],
   "source": [
    "data_sale = data.loc[data['type']=='gamesale']\n",
    "data_swap = data.loc[data['type']=='gameswap']\n",
    "\n",
    "swap_user = set(data_swap['author'])\n",
    "sale_user = set(data_sale['author'])\n",
    "both_user = swap_user.intersection(sale_user)\n",
    "\n",
    "print(\"Active users in r/GameSwap:\", len(swap_user))\n",
    "print(\"Active users in r/GameSale:\", len(sale_user))\n",
    "print(\"Active users in both communities:\", len(both_user))"
   ]
  },
  {
   "attachments": {},
   "cell_type": "markdown",
   "id": "ef6ec623-3288-4727-964e-5716793cfa51",
   "metadata": {},
   "source": [
    "## 3. Interactions"
   ]
  },
  {
   "cell_type": "code",
   "execution_count": 105,
   "id": "f31b86b6",
   "metadata": {
    "vscode": {
     "languageId": "python"
    }
   },
   "outputs": [],
   "source": [
    "# Get the months in created_utc\n",
    "data['month']=data['created_utc'].dt.to_period('M')\n",
    "months = data['month'].sort_values().unique()\n",
    "\n",
    "# Get the number of transactions in each month.\n",
    "# So we can see if two users have ever interacted in the given month.\n",
    "transaction_at_month = data.groupby(['author', 'reply_author', 'type', 'month', 'user']).size().reset_index(name='count')"
   ]
  },
  {
   "cell_type": "code",
   "execution_count": 106,
   "id": "55c136de",
   "metadata": {
    "vscode": {
     "languageId": "python"
    }
   },
   "outputs": [],
   "source": [
    "interactions = transaction_at_month.pivot(index=['author','reply_author','month','user'], columns='type', values='count').fillna(0).astype(int).reset_index().rename_axis(None, axis=1)\n",
    "interactions['total'] = interactions['gamesale'] + interactions['gameswap']\n",
    "\n",
    "# Lowercase the author and reply_author\n",
    "interactions['author'] = interactions['author'].str.lower()\n",
    "interactions['reply_author'] = interactions['reply_author'].str.lower()\n",
    "\n",
    "# Drop the rows that have the same author, reply_author, and month because each transaction will be counted twice because that there are two users.\n",
    "interactions = interactions.drop_duplicates(subset=['author','reply_author','month'], keep='first')\n",
    "\n",
    "# Create a new column called pair, is the set of (author, reply_author, user)\n",
    "# So this column can be used to check if two users have ever interacted.\n",
    "interactions['pair'] = interactions.apply(lambda x: set(sorted([x['author'], x['reply_author'], x['user']])), axis=1)"
   ]
  },
  {
   "cell_type": "code",
   "execution_count": 107,
   "id": "017cc3d7",
   "metadata": {
    "vscode": {
     "languageId": "python"
    }
   },
   "outputs": [],
   "source": [
    "# temp = interactions.sort_values(by=['author','reply_author','month'],).iloc[3:5,:]['pair'].values\n",
    "# print(temp)\n",
    "# temp[0]==temp[1]"
   ]
  },
  {
   "attachments": {},
   "cell_type": "markdown",
   "id": "1967c8d1",
   "metadata": {},
   "source": [
    "## 4. Cumulative Transactions\n",
    "Here we store the cumulative transactions of user till each month."
   ]
  },
  {
   "cell_type": "code",
   "execution_count": 108,
   "id": "71930e2c",
   "metadata": {
    "vscode": {
     "languageId": "python"
    }
   },
   "outputs": [],
   "source": [
    "tranc = data.groupby(['user','type','month']).size().reset_index(name='count').pivot(index=['user','month'], columns='type', values='count').fillna(0).astype(int).reset_index().rename_axis(None, axis=1)\n",
    "tranc['year'] = tranc['month'].dt.year"
   ]
  },
  {
   "cell_type": "code",
   "execution_count": 109,
   "id": "d8e150b9",
   "metadata": {
    "vscode": {
     "languageId": "python"
    }
   },
   "outputs": [],
   "source": [
    "cumulative_transactions = {}\n",
    "for month in months:\n",
    "    # Get the total transactions of a user no later than the given month\n",
    "    cumulative_transactions[month] = data.loc[data['month'] <= month].groupby(['user','type']).size().reset_index(name='count').pivot(index='user', columns='type', values='count').fillna(0).astype(int)\n",
    "    if 'gamesale' not in cumulative_transactions[month].columns:\n",
    "        cumulative_transactions[month]['gamesale'] = 0\n",
    "    cumulative_transactions[month]['total'] = cumulative_transactions[month]['gamesale'] + cumulative_transactions[month]['gameswap']\n",
    "    cumulative_transactions[month] = cumulative_transactions[month].reset_index().rename_axis(None, axis=1)\n",
    "    # Add the month column\n",
    "    cumulative_transactions[month]['month'] = month\n",
    "\n",
    "# Combine all the dataframes into one, called trans_till_month\n",
    "trans_till_month = pd.concat(cumulative_transactions.values(), ignore_index=True)\n",
    "# Add a year column\n",
    "trans_till_month['year'] = trans_till_month['month'].dt.year\n"
   ]
  },
  {
   "attachments": {},
   "cell_type": "markdown",
   "id": "9dd1b57f",
   "metadata": {},
   "source": [
    "## 5. Analysis"
   ]
  },
  {
   "attachments": {},
   "cell_type": "markdown",
   "id": "9913a4b5",
   "metadata": {},
   "source": [
    "### 5.1 Relationship between Bartering and Selling"
   ]
  },
  {
   "cell_type": "code",
   "execution_count": 110,
   "id": "ab9f6258",
   "metadata": {
    "vscode": {
     "languageId": "python"
    }
   },
   "outputs": [
    {
     "data": {
      "image/png": "[encoded data removed]",
      "text/plain": [
       "<Figure size 1500x1000 with 6 Axes>"
      ]
     },
     "metadata": {},
     "output_type": "display_data"
    },
    {
     "data": {
      "text/plain": [
       "<Figure size 640x480 with 0 Axes>"
      ]
     },
     "metadata": {},
     "output_type": "display_data"
    }
   ],
   "source": [
    "# Plot each year's relationship between gameswap and gamesale, 6 plots in total, tranc\n",
    "fig, axes = plt.subplots(2, 3, figsize=(15, 10))\n",
    "for i, year in enumerate(sorted(tranc['year'].unique())):\n",
    "    ax = axes[i//3, i%3]\n",
    "    ax.set_title('Year: '+str(year))\n",
    "    sns.scatterplot(x='gameswap', y='gamesale', data=tranc.loc[tranc['year']==year], ax=ax)\n",
    "\n",
    "plt.show()\n",
    "plt.savefig('plot/transaction_per_year.png')\n"
   ]
  },
  {
   "attachments": {},
   "cell_type": "markdown",
   "id": "fc0dc81f",
   "metadata": {},
   "source": [
    "### 2.1 Get transactions tuple\n",
    "For each month $t$, if in month $t+1$, users $A$ and $B$ have an transaction, then we store tuple $(A_t, B_t, t)$, where $A_t$ is the number of cumulative transactions of user $A$ till month $t$."
   ]
  },
  {
   "cell_type": "code",
   "execution_count": 111,
   "id": "20b29e94",
   "metadata": {
    "vscode": {
     "languageId": "python"
    }
   },
   "outputs": [],
   "source": [
    "def merge_by_author(pre_month, current_month, current_data):\n",
    "    temp = pd.merge(current_data, cumulative_transactions[pre_month][['user','total']], left_on=current_data['author'].str.lower(), right_on='user', how='left')\n",
    "    final = pd.merge(temp, cumulative_transactions[pre_month][['user','total']], left_on=temp['reply_author'].str.lower(), right_on='user', how='left')\n",
    "    final = final.drop(['user','user_x','user_y'], axis=1)\n",
    "    final = final.rename(columns={'total_x':'author_total','total_y':'reply_author_total'})\n",
    "    final = final.fillna(0)\n",
    "    return final"
   ]
  },
  {
   "cell_type": "code",
   "execution_count": 112,
   "id": "0046a203",
   "metadata": {
    "vscode": {
     "languageId": "python"
    }
   },
   "outputs": [],
   "source": [
    "df_all = []\n",
    "for pre_month, current_month in zip(months[::], months[1::]):\n",
    "    # Get the users who have interacted in the current month\n",
    "    current_data = interactions.loc[(interactions['month']==current_month)&(interactions['total']>=1)][['author','reply_author']]\n",
    "    \n",
    "    processed_current = merge_by_author(pre_month, current_month, current_data)\n",
    "    processed_current['month'] = pre_month\n",
    "    df_all.append(processed_current)\n",
    "\n",
    "df_all = pd.concat(df_all)"
   ]
  },
  {
   "cell_type": "code",
   "execution_count": 113,
   "id": "7a9dc314",
   "metadata": {
    "vscode": {
     "languageId": "python"
    }
   },
   "outputs": [
    {
     "data": {
      "text/html": [
       "<div>\n",
       "<style scoped>\n",
       "    .dataframe tbody tr th:only-of-type {\n",
       "        vertical-align: middle;\n",
       "    }\n",
       "\n",
       "    .dataframe tbody tr th {\n",
       "        vertical-align: top;\n",
       "    }\n",
       "\n",
       "    .dataframe thead th {\n",
       "        text-align: right;\n",
       "    }\n",
       "</style>\n",
       "<table border=\"1\" class=\"dataframe\">\n",
       "  <thead>\n",
       "    <tr style=\"text-align: right;\">\n",
       "      <th></th>\n",
       "      <th>author</th>\n",
       "      <th>reply_author</th>\n",
       "      <th>author_total</th>\n",
       "      <th>reply_author_total</th>\n",
       "      <th>month</th>\n",
       "    </tr>\n",
       "  </thead>\n",
       "  <tbody>\n",
       "    <tr>\n",
       "      <th>0</th>\n",
       "      <td>3gsid</td>\n",
       "      <td>marcymarcmarc</td>\n",
       "      <td>1.0</td>\n",
       "      <td>5.0</td>\n",
       "      <td>2013-10</td>\n",
       "    </tr>\n",
       "    <tr>\n",
       "      <th>1</th>\n",
       "      <td>arcanis888</td>\n",
       "      <td>0nlyher0</td>\n",
       "      <td>1.0</td>\n",
       "      <td>1.0</td>\n",
       "      <td>2013-10</td>\n",
       "    </tr>\n",
       "    <tr>\n",
       "      <th>2</th>\n",
       "      <td>autoham</td>\n",
       "      <td>rheally</td>\n",
       "      <td>2.0</td>\n",
       "      <td>0.0</td>\n",
       "      <td>2013-10</td>\n",
       "    </tr>\n",
       "    <tr>\n",
       "      <th>3</th>\n",
       "      <td>betaboy23</td>\n",
       "      <td>zerox2306</td>\n",
       "      <td>1.0</td>\n",
       "      <td>0.0</td>\n",
       "      <td>2013-10</td>\n",
       "    </tr>\n",
       "    <tr>\n",
       "      <th>4</th>\n",
       "      <td>betom</td>\n",
       "      <td>dannydrabik</td>\n",
       "      <td>0.0</td>\n",
       "      <td>0.0</td>\n",
       "      <td>2013-10</td>\n",
       "    </tr>\n",
       "    <tr>\n",
       "      <th>...</th>\n",
       "      <td>...</td>\n",
       "      <td>...</td>\n",
       "      <td>...</td>\n",
       "      <td>...</td>\n",
       "      <td>...</td>\n",
       "    </tr>\n",
       "    <tr>\n",
       "      <th>287</th>\n",
       "      <td>yugidementia</td>\n",
       "      <td>lucario_ftw</td>\n",
       "      <td>3.0</td>\n",
       "      <td>2.0</td>\n",
       "      <td>2018-11</td>\n",
       "    </tr>\n",
       "    <tr>\n",
       "      <th>288</th>\n",
       "      <td>yugidementia</td>\n",
       "      <td>stela_thylacine</td>\n",
       "      <td>3.0</td>\n",
       "      <td>0.0</td>\n",
       "      <td>2018-11</td>\n",
       "    </tr>\n",
       "    <tr>\n",
       "      <th>289</th>\n",
       "      <td>yugidementia</td>\n",
       "      <td>arandomuzzerame</td>\n",
       "      <td>3.0</td>\n",
       "      <td>36.0</td>\n",
       "      <td>2018-11</td>\n",
       "    </tr>\n",
       "    <tr>\n",
       "      <th>290</th>\n",
       "      <td>yugidementia</td>\n",
       "      <td>bulldawgblitz</td>\n",
       "      <td>3.0</td>\n",
       "      <td>13.0</td>\n",
       "      <td>2018-11</td>\n",
       "    </tr>\n",
       "    <tr>\n",
       "      <th>291</th>\n",
       "      <td>yugidementia</td>\n",
       "      <td>doctorquien28</td>\n",
       "      <td>3.0</td>\n",
       "      <td>11.0</td>\n",
       "      <td>2018-11</td>\n",
       "    </tr>\n",
       "  </tbody>\n",
       "</table>\n",
       "<p>13236 rows × 5 columns</p>\n",
       "</div>"
      ],
      "text/plain": [
       "           author     reply_author  author_total  reply_author_total    month\n",
       "0           3gsid    marcymarcmarc           1.0                 5.0  2013-10\n",
       "1      arcanis888         0nlyher0           1.0                 1.0  2013-10\n",
       "2         autoham          rheally           2.0                 0.0  2013-10\n",
       "3       betaboy23        zerox2306           1.0                 0.0  2013-10\n",
       "4           betom      dannydrabik           0.0                 0.0  2013-10\n",
       "..            ...              ...           ...                 ...      ...\n",
       "287  yugidementia      lucario_ftw           3.0                 2.0  2018-11\n",
       "288  yugidementia  stela_thylacine           3.0                 0.0  2018-11\n",
       "289  yugidementia  arandomuzzerame           3.0                36.0  2018-11\n",
       "290  yugidementia    bulldawgblitz           3.0                13.0  2018-11\n",
       "291  yugidementia    doctorquien28           3.0                11.0  2018-11\n",
       "\n",
       "[13236 rows x 5 columns]"
      ]
     },
     "execution_count": 113,
     "metadata": {},
     "output_type": "execute_result"
    }
   ],
   "source": [
    "df_all"
   ]
  },
  {
   "cell_type": "code",
   "execution_count": 114,
   "id": "253785b1",
   "metadata": {
    "vscode": {
     "languageId": "python"
    }
   },
   "outputs": [
    {
     "data": {
      "text/html": [
       "<div>\n",
       "<style scoped>\n",
       "    .dataframe tbody tr th:only-of-type {\n",
       "        vertical-align: middle;\n",
       "    }\n",
       "\n",
       "    .dataframe tbody tr th {\n",
       "        vertical-align: top;\n",
       "    }\n",
       "\n",
       "    .dataframe thead th {\n",
       "        text-align: right;\n",
       "    }\n",
       "</style>\n",
       "<table border=\"1\" class=\"dataframe\">\n",
       "  <thead>\n",
       "    <tr style=\"text-align: right;\">\n",
       "      <th></th>\n",
       "      <th>author</th>\n",
       "      <th>reply_author</th>\n",
       "      <th>author_total</th>\n",
       "      <th>reply_author_total</th>\n",
       "      <th>month</th>\n",
       "      <th>year</th>\n",
       "    </tr>\n",
       "  </thead>\n",
       "  <tbody>\n",
       "    <tr>\n",
       "      <th>0</th>\n",
       "      <td>3gsid</td>\n",
       "      <td>marcymarcmarc</td>\n",
       "      <td>1.0</td>\n",
       "      <td>5.0</td>\n",
       "      <td>2013-10</td>\n",
       "      <td>2013</td>\n",
       "    </tr>\n",
       "    <tr>\n",
       "      <th>1</th>\n",
       "      <td>arcanis888</td>\n",
       "      <td>0nlyher0</td>\n",
       "      <td>1.0</td>\n",
       "      <td>1.0</td>\n",
       "      <td>2013-10</td>\n",
       "      <td>2013</td>\n",
       "    </tr>\n",
       "    <tr>\n",
       "      <th>2</th>\n",
       "      <td>autoham</td>\n",
       "      <td>rheally</td>\n",
       "      <td>2.0</td>\n",
       "      <td>0.0</td>\n",
       "      <td>2013-10</td>\n",
       "      <td>2013</td>\n",
       "    </tr>\n",
       "    <tr>\n",
       "      <th>3</th>\n",
       "      <td>betaboy23</td>\n",
       "      <td>zerox2306</td>\n",
       "      <td>1.0</td>\n",
       "      <td>0.0</td>\n",
       "      <td>2013-10</td>\n",
       "      <td>2013</td>\n",
       "    </tr>\n",
       "    <tr>\n",
       "      <th>4</th>\n",
       "      <td>betom</td>\n",
       "      <td>dannydrabik</td>\n",
       "      <td>0.0</td>\n",
       "      <td>0.0</td>\n",
       "      <td>2013-10</td>\n",
       "      <td>2013</td>\n",
       "    </tr>\n",
       "    <tr>\n",
       "      <th>...</th>\n",
       "      <td>...</td>\n",
       "      <td>...</td>\n",
       "      <td>...</td>\n",
       "      <td>...</td>\n",
       "      <td>...</td>\n",
       "      <td>...</td>\n",
       "    </tr>\n",
       "    <tr>\n",
       "      <th>287</th>\n",
       "      <td>yugidementia</td>\n",
       "      <td>lucario_ftw</td>\n",
       "      <td>3.0</td>\n",
       "      <td>2.0</td>\n",
       "      <td>2018-11</td>\n",
       "      <td>2018</td>\n",
       "    </tr>\n",
       "    <tr>\n",
       "      <th>288</th>\n",
       "      <td>yugidementia</td>\n",
       "      <td>stela_thylacine</td>\n",
       "      <td>3.0</td>\n",
       "      <td>0.0</td>\n",
       "      <td>2018-11</td>\n",
       "      <td>2018</td>\n",
       "    </tr>\n",
       "    <tr>\n",
       "      <th>289</th>\n",
       "      <td>yugidementia</td>\n",
       "      <td>arandomuzzerame</td>\n",
       "      <td>3.0</td>\n",
       "      <td>36.0</td>\n",
       "      <td>2018-11</td>\n",
       "      <td>2018</td>\n",
       "    </tr>\n",
       "    <tr>\n",
       "      <th>290</th>\n",
       "      <td>yugidementia</td>\n",
       "      <td>bulldawgblitz</td>\n",
       "      <td>3.0</td>\n",
       "      <td>13.0</td>\n",
       "      <td>2018-11</td>\n",
       "      <td>2018</td>\n",
       "    </tr>\n",
       "    <tr>\n",
       "      <th>291</th>\n",
       "      <td>yugidementia</td>\n",
       "      <td>doctorquien28</td>\n",
       "      <td>3.0</td>\n",
       "      <td>11.0</td>\n",
       "      <td>2018-11</td>\n",
       "      <td>2018</td>\n",
       "    </tr>\n",
       "  </tbody>\n",
       "</table>\n",
       "<p>13236 rows × 6 columns</p>\n",
       "</div>"
      ],
      "text/plain": [
       "           author     reply_author  author_total  reply_author_total    month  \\\n",
       "0           3gsid    marcymarcmarc           1.0                 5.0  2013-10   \n",
       "1      arcanis888         0nlyher0           1.0                 1.0  2013-10   \n",
       "2         autoham          rheally           2.0                 0.0  2013-10   \n",
       "3       betaboy23        zerox2306           1.0                 0.0  2013-10   \n",
       "4           betom      dannydrabik           0.0                 0.0  2013-10   \n",
       "..            ...              ...           ...                 ...      ...   \n",
       "287  yugidementia      lucario_ftw           3.0                 2.0  2018-11   \n",
       "288  yugidementia  stela_thylacine           3.0                 0.0  2018-11   \n",
       "289  yugidementia  arandomuzzerame           3.0                36.0  2018-11   \n",
       "290  yugidementia    bulldawgblitz           3.0                13.0  2018-11   \n",
       "291  yugidementia    doctorquien28           3.0                11.0  2018-11   \n",
       "\n",
       "     year  \n",
       "0    2013  \n",
       "1    2013  \n",
       "2    2013  \n",
       "3    2013  \n",
       "4    2013  \n",
       "..    ...  \n",
       "287  2018  \n",
       "288  2018  \n",
       "289  2018  \n",
       "290  2018  \n",
       "291  2018  \n",
       "\n",
       "[13236 rows x 6 columns]"
      ]
     },
     "execution_count": 114,
     "metadata": {},
     "output_type": "execute_result"
    }
   ],
   "source": [
    "# Add a column of year\n",
    "df_all['year'] = df_all['month'].dt.year\n",
    "df_all"
   ]
  },
  {
   "cell_type": "code",
   "execution_count": 115,
   "id": "0d75c7eb",
   "metadata": {
    "vscode": {
     "languageId": "python"
    }
   },
   "outputs": [],
   "source": [
    "# Reverse column 1 and 2,  3 and 4\n",
    "df_all_reverse = df_all.copy()\n",
    "df_all_reverse[['author','reply_author']] = df_all_reverse[['reply_author','author']]\n",
    "df_all_reverse[['author_total','reply_author_total']] = df_all_reverse[['reply_author_total','author_total']]\n",
    "\n",
    "df = pd.concat([df_all, df_all_reverse])"
   ]
  },
  {
   "cell_type": "code",
   "execution_count": 116,
   "id": "8ea96f61",
   "metadata": {
    "vscode": {
     "languageId": "python"
    }
   },
   "outputs": [],
   "source": [
    "# Get author_total == 1\n",
    "cum_year = df.loc[(df['author_total']<=0) & \n",
    "                  (df['reply_author_total']<=100) &\n",
    "                  (df['reply_author_total']>=0)]\n",
    "data_to_plot = [cum_year.loc[cum_year['year']==year,'reply_author_total'] for year in range(2014,2019)]\n"
   ]
  },
  {
   "cell_type": "code",
   "execution_count": 117,
   "id": "088c09b2",
   "metadata": {
    "vscode": {
     "languageId": "python"
    }
   },
   "outputs": [
    {
     "data": {
      "text/plain": [
       "<matplotlib.legend.Legend at 0x7fa058786fd0>"
      ]
     },
     "execution_count": 117,
     "metadata": {},
     "output_type": "execute_result"
    },
    {
     "data": {
      "image/png": "[encoded data removed]",
      "text/plain": [
       "<Figure size 640x480 with 1 Axes>"
      ]
     },
     "metadata": {},
     "output_type": "display_data"
    }
   ],
   "source": [
    "plt.hist(data_to_plot,  alpha=0.5, label=[2014,2015,2016,2017,2018], bins=range(0,50,1), stacked=True, )\n",
    "plt.legend(loc='upper right')"
   ]
  },
  {
   "cell_type": "code",
   "execution_count": null,
   "id": "58fc57e6",
   "metadata": {
    "vscode": {
     "languageId": "python"
    }
   },
   "outputs": [],
   "source": []
  }
 ],
 "metadata": {
  "kernelspec": {
   "display_name": "cs526",
   "language": "python",
   "name": "cs526"
  }
 },
 "nbformat": 4,
 "nbformat_minor": 5
}
