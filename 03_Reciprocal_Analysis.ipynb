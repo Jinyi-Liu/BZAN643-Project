{
 "cells": [
  {
   "cell_type": "markdown",
   "id": "7573226d-4f44-48af-8182-af60034f78bb",
   "metadata": {},
   "source": [
    "# Reciprocal Relationship between Bartering and Selling\n",
    "- When it comes to game exchange, do people prefer to exchange the game with someone who has exchanged before or someone who has not exchanged before? \n",
    "- What's the difference between game sales and game exchange?\n",
    "\n",
    "Here, we use logistic regression."
   ]
  },
  {
   "cell_type": "markdown",
   "id": "97677bf2-13a7-41f8-8b25-baede2051ab4",
   "metadata": {},
   "source": [
    "## 0. Load the data"
   ]
  },
  {
   "cell_type": "code",
   "execution_count": 2,
   "id": "a5a3804c-af85-4d23-9422-9f5cece76576",
   "metadata": {
    "tags": []
   },
   "outputs": [],
   "source": [
    "import pandas as pd\n",
    "import pickle"
   ]
  },
  {
   "cell_type": "code",
   "execution_count": 17,
   "id": "77cfd091",
   "metadata": {},
   "outputs": [],
   "source": [
    "# Load the data from pickle file\n",
    "with open('data/transaction_history_all.pickle', 'rb') as f:\n",
    "    data = pickle.load(f)\n",
    "\n",
    "# Choose only the data before 2019-01-01\n",
    "data = data.loc[data['created_utc']<='2018-12-31']"
   ]
  },
  {
   "cell_type": "code",
   "execution_count": 2,
   "id": "bd67c247-30e0-4584-adb6-3b2ccff6cbdb",
   "metadata": {
    "tags": []
   },
   "outputs": [
    {
     "data": {
      "text/plain": [
       "(29712, 10)"
      ]
     },
     "execution_count": 2,
     "metadata": {},
     "output_type": "execute_result"
    }
   ],
   "source": [
    "# with open((\"./data/df_pre2019_original.pickle\"), 'rb') as handle:\n",
    "#     data = pickle.load(handle)\n",
    "# data.shape"
   ]
  },
  {
   "cell_type": "markdown",
   "id": "64cb52f8-ca43-496b-bd5a-be409697e3ae",
   "metadata": {},
   "source": [
    "## 1. Preprocessing\n",
    "- The bot may record wrongly the confirmantion.\n",
    "- Some Reddit users may delete their accounts.\n",
    "\n",
    "**We ignore these cases by deleting these rows.**"
   ]
  },
  {
   "cell_type": "code",
   "execution_count": 18,
   "id": "c1fd1ea4-e1d3-4c6f-9adb-9a9c48fecc39",
   "metadata": {
    "tags": []
   },
   "outputs": [
    {
     "data": {
      "text/plain": [
       "(97, 11)"
      ]
     },
     "execution_count": 18,
     "metadata": {},
     "output_type": "execute_result"
    }
   ],
   "source": [
    "data.loc[data['author']==data['reply_author']].shape"
   ]
  },
  {
   "cell_type": "code",
   "execution_count": 19,
   "id": "2155b724-0621-4dc8-81ad-f80236caad06",
   "metadata": {
    "tags": []
   },
   "outputs": [],
   "source": [
    "data = data.loc[data['author']!=data['reply_author']]"
   ]
  },
  {
   "cell_type": "code",
   "execution_count": 20,
   "id": "ff1c68df-d066-401d-8d38-eed88e5f16ed",
   "metadata": {
    "tags": []
   },
   "outputs": [
    {
     "data": {
      "text/plain": [
       "(1759, 11)"
      ]
     },
     "execution_count": 20,
     "metadata": {},
     "output_type": "execute_result"
    }
   ],
   "source": [
    "data.loc[(data['author']=='[deleted]')|(data['reply_author']=='[deleted]')].shape"
   ]
  },
  {
   "cell_type": "code",
   "execution_count": 21,
   "id": "ca0a2de5-7911-4fa5-85c7-a3900ab3b6b2",
   "metadata": {
    "tags": []
   },
   "outputs": [],
   "source": [
    "data = data.loc[(data['author']!='[deleted]') & (data['reply_author']!='[deleted]')]"
   ]
  },
  {
   "cell_type": "code",
   "execution_count": 22,
   "id": "ce933d8d-553d-4e0c-8c6d-5b820fbb55ca",
   "metadata": {
    "tags": []
   },
   "outputs": [
    {
     "data": {
      "text/html": [
       "<div>\n",
       "<style scoped>\n",
       "    .dataframe tbody tr th:only-of-type {\n",
       "        vertical-align: middle;\n",
       "    }\n",
       "\n",
       "    .dataframe tbody tr th {\n",
       "        vertical-align: top;\n",
       "    }\n",
       "\n",
       "    .dataframe thead th {\n",
       "        text-align: right;\n",
       "    }\n",
       "</style>\n",
       "<table border=\"1\" class=\"dataframe\">\n",
       "  <thead>\n",
       "    <tr style=\"text-align: right;\">\n",
       "      <th></th>\n",
       "      <th>user</th>\n",
       "      <th>index</th>\n",
       "      <th>author</th>\n",
       "      <th>body</th>\n",
       "      <th>created_utc</th>\n",
       "      <th>permalink</th>\n",
       "      <th>reply_author</th>\n",
       "      <th>reply_body</th>\n",
       "      <th>type</th>\n",
       "      <th>pred</th>\n",
       "      <th>subreddit</th>\n",
       "    </tr>\n",
       "  </thead>\n",
       "  <tbody>\n",
       "    <tr>\n",
       "      <th>6</th>\n",
       "      <td>rdmentalist</td>\n",
       "      <td>rdmentalist_2</td>\n",
       "      <td>MrAce2C</td>\n",
       "      <td>Successful trade with u/rdmentalist. Gave Gear...</td>\n",
       "      <td>2016-10-23 21:59:35</td>\n",
       "      <td>/r/gameswap/comments/543ojp/completed_trade_th...</td>\n",
       "      <td>rdmentalist</td>\n",
       "      <td>Confirmed.</td>\n",
       "      <td>gameswap</td>\n",
       "      <td>NaN</td>\n",
       "      <td>gameswap</td>\n",
       "    </tr>\n",
       "    <tr>\n",
       "      <th>9</th>\n",
       "      <td>rdmentalist</td>\n",
       "      <td>rdmentalist_5</td>\n",
       "      <td>TradlyGent</td>\n",
       "      <td>swapped a 20% PSN code for Gears of War 1 and ...</td>\n",
       "      <td>2018-07-03 17:19:14</td>\n",
       "      <td>/r/gameswap/comments/7q4pkv/completed_swap_thr...</td>\n",
       "      <td>rdmentalist</td>\n",
       "      <td>Confirmed.</td>\n",
       "      <td>gameswap</td>\n",
       "      <td>NaN</td>\n",
       "      <td>gameswap</td>\n",
       "    </tr>\n",
       "    <tr>\n",
       "      <th>10</th>\n",
       "      <td>rdmentalist</td>\n",
       "      <td>rdmentalist_6</td>\n",
       "      <td>keokidream</td>\n",
       "      <td>Successful trade with /u/rdmentalist\\n\\nCall o...</td>\n",
       "      <td>2016-06-17 14:54:23</td>\n",
       "      <td>/r/gameswap/comments/4c351t/completed_trade_th...</td>\n",
       "      <td>rdmentalist</td>\n",
       "      <td>Confirmed! thanks</td>\n",
       "      <td>gameswap</td>\n",
       "      <td>NaN</td>\n",
       "      <td>gameswap</td>\n",
       "    </tr>\n",
       "    <tr>\n",
       "      <th>11</th>\n",
       "      <td>rdmentalist</td>\n",
       "      <td>rdmentalist_7</td>\n",
       "      <td>testicles_two</td>\n",
       "      <td>Traded Gears of War 1,2,3 and Judgement for $1...</td>\n",
       "      <td>2016-06-23 23:55:01</td>\n",
       "      <td>/r/gameswap/comments/4c351t/completed_trade_th...</td>\n",
       "      <td>rdmentalist</td>\n",
       "      <td>Confirmed ! thanks</td>\n",
       "      <td>gameswap</td>\n",
       "      <td>NaN</td>\n",
       "      <td>gameswap</td>\n",
       "    </tr>\n",
       "    <tr>\n",
       "      <th>12</th>\n",
       "      <td>rdmentalist</td>\n",
       "      <td>rdmentalist_8</td>\n",
       "      <td>walterpwn</td>\n",
       "      <td>Successful trade with [/u/rdmentalist](https:/...</td>\n",
       "      <td>2016-05-12 19:43:00</td>\n",
       "      <td>/r/gameswap/comments/4c351t/completed_trade_th...</td>\n",
       "      <td>rdmentalist</td>\n",
       "      <td>Confirmed :)</td>\n",
       "      <td>gameswap</td>\n",
       "      <td>NaN</td>\n",
       "      <td>gameswap</td>\n",
       "    </tr>\n",
       "  </tbody>\n",
       "</table>\n",
       "</div>"
      ],
      "text/plain": [
       "           user          index         author  \\\n",
       "6   rdmentalist  rdmentalist_2        MrAce2C   \n",
       "9   rdmentalist  rdmentalist_5     TradlyGent   \n",
       "10  rdmentalist  rdmentalist_6     keokidream   \n",
       "11  rdmentalist  rdmentalist_7  testicles_two   \n",
       "12  rdmentalist  rdmentalist_8      walterpwn   \n",
       "\n",
       "                                                 body         created_utc  \\\n",
       "6   Successful trade with u/rdmentalist. Gave Gear... 2016-10-23 21:59:35   \n",
       "9   swapped a 20% PSN code for Gears of War 1 and ... 2018-07-03 17:19:14   \n",
       "10  Successful trade with /u/rdmentalist\\n\\nCall o... 2016-06-17 14:54:23   \n",
       "11  Traded Gears of War 1,2,3 and Judgement for $1... 2016-06-23 23:55:01   \n",
       "12  Successful trade with [/u/rdmentalist](https:/... 2016-05-12 19:43:00   \n",
       "\n",
       "                                            permalink reply_author  \\\n",
       "6   /r/gameswap/comments/543ojp/completed_trade_th...  rdmentalist   \n",
       "9   /r/gameswap/comments/7q4pkv/completed_swap_thr...  rdmentalist   \n",
       "10  /r/gameswap/comments/4c351t/completed_trade_th...  rdmentalist   \n",
       "11  /r/gameswap/comments/4c351t/completed_trade_th...  rdmentalist   \n",
       "12  /r/gameswap/comments/4c351t/completed_trade_th...  rdmentalist   \n",
       "\n",
       "            reply_body      type  pred subreddit  \n",
       "6           Confirmed.  gameswap   NaN  gameswap  \n",
       "9           Confirmed.  gameswap   NaN  gameswap  \n",
       "10   Confirmed! thanks  gameswap   NaN  gameswap  \n",
       "11  Confirmed ! thanks  gameswap   NaN  gameswap  \n",
       "12        Confirmed :)  gameswap   NaN  gameswap  "
      ]
     },
     "execution_count": 22,
     "metadata": {},
     "output_type": "execute_result"
    }
   ],
   "source": [
    "data.head()"
   ]
  },
  {
   "cell_type": "code",
   "execution_count": 23,
   "id": "76ef6050-48a4-4f06-add3-104a468e8450",
   "metadata": {
    "tags": []
   },
   "outputs": [
    {
     "data": {
      "text/plain": [
       "(28586, 11)"
      ]
     },
     "execution_count": 23,
     "metadata": {},
     "output_type": "execute_result"
    }
   ],
   "source": [
    "# So we still have 28586 rows of confirmantion data.\n",
    "data.shape"
   ]
  },
  {
   "cell_type": "code",
   "execution_count": 24,
   "id": "82c4850c-7b06-4b7f-a3f3-35a7afe0babe",
   "metadata": {
    "tags": []
   },
   "outputs": [
    {
     "data": {
      "text/plain": [
       "count                            28586\n",
       "mean     2016-10-29 16:11:53.239487744\n",
       "min                2013-10-01 19:51:32\n",
       "25%                2015-08-04 21:05:31\n",
       "50%                2017-01-23 03:03:51\n",
       "75%                2018-02-25 17:14:02\n",
       "max                2018-12-30 23:12:21\n",
       "Name: created_utc, dtype: object"
      ]
     },
     "execution_count": 24,
     "metadata": {},
     "output_type": "execute_result"
    }
   ],
   "source": [
    "data['created_utc'].describe(datetime_is_numeric=True)"
   ]
  },
  {
   "cell_type": "markdown",
   "id": "4a0f4443-00a2-4b80-8469-5a487edd6c29",
   "metadata": {},
   "source": [
    "## 2. Relationship"
   ]
  },
  {
   "cell_type": "code",
   "execution_count": 25,
   "id": "129acb05-9f20-444b-b935-547e06273936",
   "metadata": {
    "tags": []
   },
   "outputs": [],
   "source": [
    "data_sale = data.loc[data['type']=='gamesale']\n",
    "data_swap = data.loc[data['type']=='gameswap']"
   ]
  },
  {
   "cell_type": "code",
   "execution_count": 26,
   "id": "4843185c-54b5-4bd8-8b5e-ab46d3069cb5",
   "metadata": {
    "tags": []
   },
   "outputs": [],
   "source": [
    "swap_user = set(data_swap['author'])\n",
    "sale_user = set(data_sale['author'])\n",
    "both_user = swap_user.intersection(sale_user)"
   ]
  },
  {
   "cell_type": "code",
   "execution_count": 27,
   "id": "4eb6b43a-a9b5-4f75-8c05-7ccd2c5527e4",
   "metadata": {
    "tags": []
   },
   "outputs": [
    {
     "name": "stdout",
     "output_type": "stream",
     "text": [
      "Active users in r/GameSwap: 1492\n",
      "Active users in r/GameSale: 2885\n",
      "Active users in both communities: 452\n"
     ]
    }
   ],
   "source": [
    "print(\"Active users in r/GameSwap:\", len(swap_user))\n",
    "print(\"Active users in r/GameSale:\", len(sale_user))\n",
    "print(\"Active users in both communities:\", len(both_user))"
   ]
  },
  {
   "cell_type": "code",
   "execution_count": 28,
   "id": "b7172347-72dc-47cc-bb10-312d829a833d",
   "metadata": {
    "tags": []
   },
   "outputs": [
    {
     "data": {
      "text/html": [
       "<div>\n",
       "<style scoped>\n",
       "    .dataframe tbody tr th:only-of-type {\n",
       "        vertical-align: middle;\n",
       "    }\n",
       "\n",
       "    .dataframe tbody tr th {\n",
       "        vertical-align: top;\n",
       "    }\n",
       "\n",
       "    .dataframe thead th {\n",
       "        text-align: right;\n",
       "    }\n",
       "</style>\n",
       "<table border=\"1\" class=\"dataframe\">\n",
       "  <thead>\n",
       "    <tr style=\"text-align: right;\">\n",
       "      <th></th>\n",
       "      <th>user</th>\n",
       "      <th>index</th>\n",
       "      <th>author</th>\n",
       "      <th>body</th>\n",
       "      <th>created_utc</th>\n",
       "      <th>permalink</th>\n",
       "      <th>reply_author</th>\n",
       "      <th>reply_body</th>\n",
       "      <th>type</th>\n",
       "      <th>pred</th>\n",
       "      <th>subreddit</th>\n",
       "    </tr>\n",
       "  </thead>\n",
       "  <tbody>\n",
       "    <tr>\n",
       "      <th>6</th>\n",
       "      <td>rdmentalist</td>\n",
       "      <td>rdmentalist_2</td>\n",
       "      <td>MrAce2C</td>\n",
       "      <td>Successful trade with u/rdmentalist. Gave Gear...</td>\n",
       "      <td>2016-10-23 21:59:35</td>\n",
       "      <td>/r/gameswap/comments/543ojp/completed_trade_th...</td>\n",
       "      <td>rdmentalist</td>\n",
       "      <td>Confirmed.</td>\n",
       "      <td>gameswap</td>\n",
       "      <td>NaN</td>\n",
       "      <td>gameswap</td>\n",
       "    </tr>\n",
       "    <tr>\n",
       "      <th>9</th>\n",
       "      <td>rdmentalist</td>\n",
       "      <td>rdmentalist_5</td>\n",
       "      <td>TradlyGent</td>\n",
       "      <td>swapped a 20% PSN code for Gears of War 1 and ...</td>\n",
       "      <td>2018-07-03 17:19:14</td>\n",
       "      <td>/r/gameswap/comments/7q4pkv/completed_swap_thr...</td>\n",
       "      <td>rdmentalist</td>\n",
       "      <td>Confirmed.</td>\n",
       "      <td>gameswap</td>\n",
       "      <td>NaN</td>\n",
       "      <td>gameswap</td>\n",
       "    </tr>\n",
       "    <tr>\n",
       "      <th>10</th>\n",
       "      <td>rdmentalist</td>\n",
       "      <td>rdmentalist_6</td>\n",
       "      <td>keokidream</td>\n",
       "      <td>Successful trade with /u/rdmentalist\\n\\nCall o...</td>\n",
       "      <td>2016-06-17 14:54:23</td>\n",
       "      <td>/r/gameswap/comments/4c351t/completed_trade_th...</td>\n",
       "      <td>rdmentalist</td>\n",
       "      <td>Confirmed! thanks</td>\n",
       "      <td>gameswap</td>\n",
       "      <td>NaN</td>\n",
       "      <td>gameswap</td>\n",
       "    </tr>\n",
       "    <tr>\n",
       "      <th>11</th>\n",
       "      <td>rdmentalist</td>\n",
       "      <td>rdmentalist_7</td>\n",
       "      <td>testicles_two</td>\n",
       "      <td>Traded Gears of War 1,2,3 and Judgement for $1...</td>\n",
       "      <td>2016-06-23 23:55:01</td>\n",
       "      <td>/r/gameswap/comments/4c351t/completed_trade_th...</td>\n",
       "      <td>rdmentalist</td>\n",
       "      <td>Confirmed ! thanks</td>\n",
       "      <td>gameswap</td>\n",
       "      <td>NaN</td>\n",
       "      <td>gameswap</td>\n",
       "    </tr>\n",
       "    <tr>\n",
       "      <th>12</th>\n",
       "      <td>rdmentalist</td>\n",
       "      <td>rdmentalist_8</td>\n",
       "      <td>walterpwn</td>\n",
       "      <td>Successful trade with [/u/rdmentalist](https:/...</td>\n",
       "      <td>2016-05-12 19:43:00</td>\n",
       "      <td>/r/gameswap/comments/4c351t/completed_trade_th...</td>\n",
       "      <td>rdmentalist</td>\n",
       "      <td>Confirmed :)</td>\n",
       "      <td>gameswap</td>\n",
       "      <td>NaN</td>\n",
       "      <td>gameswap</td>\n",
       "    </tr>\n",
       "  </tbody>\n",
       "</table>\n",
       "</div>"
      ],
      "text/plain": [
       "           user          index         author  \\\n",
       "6   rdmentalist  rdmentalist_2        MrAce2C   \n",
       "9   rdmentalist  rdmentalist_5     TradlyGent   \n",
       "10  rdmentalist  rdmentalist_6     keokidream   \n",
       "11  rdmentalist  rdmentalist_7  testicles_two   \n",
       "12  rdmentalist  rdmentalist_8      walterpwn   \n",
       "\n",
       "                                                 body         created_utc  \\\n",
       "6   Successful trade with u/rdmentalist. Gave Gear... 2016-10-23 21:59:35   \n",
       "9   swapped a 20% PSN code for Gears of War 1 and ... 2018-07-03 17:19:14   \n",
       "10  Successful trade with /u/rdmentalist\\n\\nCall o... 2016-06-17 14:54:23   \n",
       "11  Traded Gears of War 1,2,3 and Judgement for $1... 2016-06-23 23:55:01   \n",
       "12  Successful trade with [/u/rdmentalist](https:/... 2016-05-12 19:43:00   \n",
       "\n",
       "                                            permalink reply_author  \\\n",
       "6   /r/gameswap/comments/543ojp/completed_trade_th...  rdmentalist   \n",
       "9   /r/gameswap/comments/7q4pkv/completed_swap_thr...  rdmentalist   \n",
       "10  /r/gameswap/comments/4c351t/completed_trade_th...  rdmentalist   \n",
       "11  /r/gameswap/comments/4c351t/completed_trade_th...  rdmentalist   \n",
       "12  /r/gameswap/comments/4c351t/completed_trade_th...  rdmentalist   \n",
       "\n",
       "            reply_body      type  pred subreddit  \n",
       "6           Confirmed.  gameswap   NaN  gameswap  \n",
       "9           Confirmed.  gameswap   NaN  gameswap  \n",
       "10   Confirmed! thanks  gameswap   NaN  gameswap  \n",
       "11  Confirmed ! thanks  gameswap   NaN  gameswap  \n",
       "12        Confirmed :)  gameswap   NaN  gameswap  "
      ]
     },
     "execution_count": 28,
     "metadata": {},
     "output_type": "execute_result"
    }
   ],
   "source": [
    "data.head()"
   ]
  },
  {
   "cell_type": "code",
   "execution_count": 29,
   "id": "ef6ec623-3288-4727-964e-5716793cfa51",
   "metadata": {},
   "outputs": [],
   "source": [
    "# Get the months in created_utc\n",
    "data['month']=data['created_utc'].dt.to_period('M')\n",
    "months = data['month'].sort_values().unique()\n"
   ]
  },
  {
   "cell_type": "code",
   "execution_count": 33,
   "id": "f31b86b6",
   "metadata": {},
   "outputs": [],
   "source": [
    "# Get the number of transactions in each month.\n",
    "# So we can see if two users have ever interacted in the given month.\n",
    "transaction_at_month = data.groupby(['author','reply_author','type','month']).size().reset_index(name='count')"
   ]
  },
  {
   "cell_type": "code",
   "execution_count": 34,
   "id": "55c136de",
   "metadata": {},
   "outputs": [
    {
     "data": {
      "text/html": [
       "<div>\n",
       "<style scoped>\n",
       "    .dataframe tbody tr th:only-of-type {\n",
       "        vertical-align: middle;\n",
       "    }\n",
       "\n",
       "    .dataframe tbody tr th {\n",
       "        vertical-align: top;\n",
       "    }\n",
       "\n",
       "    .dataframe thead th {\n",
       "        text-align: right;\n",
       "    }\n",
       "</style>\n",
       "<table border=\"1\" class=\"dataframe\">\n",
       "  <thead>\n",
       "    <tr style=\"text-align: right;\">\n",
       "      <th></th>\n",
       "      <th>author</th>\n",
       "      <th>reply_author</th>\n",
       "      <th>type</th>\n",
       "      <th>month</th>\n",
       "      <th>count</th>\n",
       "    </tr>\n",
       "  </thead>\n",
       "  <tbody>\n",
       "    <tr>\n",
       "      <th>0</th>\n",
       "      <td>--El_Duderino--</td>\n",
       "      <td>Battlehead</td>\n",
       "      <td>gameswap</td>\n",
       "      <td>2018-01</td>\n",
       "      <td>2</td>\n",
       "    </tr>\n",
       "    <tr>\n",
       "      <th>1</th>\n",
       "      <td>--El_Duderino--</td>\n",
       "      <td>CBUSraver</td>\n",
       "      <td>gameswap</td>\n",
       "      <td>2016-09</td>\n",
       "      <td>2</td>\n",
       "    </tr>\n",
       "    <tr>\n",
       "      <th>2</th>\n",
       "      <td>--El_Duderino--</td>\n",
       "      <td>ComedyChef</td>\n",
       "      <td>gameswap</td>\n",
       "      <td>2016-05</td>\n",
       "      <td>2</td>\n",
       "    </tr>\n",
       "    <tr>\n",
       "      <th>3</th>\n",
       "      <td>--El_Duderino--</td>\n",
       "      <td>FriendToGiraffes</td>\n",
       "      <td>gameswap</td>\n",
       "      <td>2017-03</td>\n",
       "      <td>2</td>\n",
       "    </tr>\n",
       "    <tr>\n",
       "      <th>4</th>\n",
       "      <td>--El_Duderino--</td>\n",
       "      <td>HowelPendragon</td>\n",
       "      <td>gamesale</td>\n",
       "      <td>2016-11</td>\n",
       "      <td>2</td>\n",
       "    </tr>\n",
       "    <tr>\n",
       "      <th>...</th>\n",
       "      <td>...</td>\n",
       "      <td>...</td>\n",
       "      <td>...</td>\n",
       "      <td>...</td>\n",
       "      <td>...</td>\n",
       "    </tr>\n",
       "    <tr>\n",
       "      <th>14028</th>\n",
       "      <td>zoozee</td>\n",
       "      <td>epicfamilydecals</td>\n",
       "      <td>gameswap</td>\n",
       "      <td>2016-06</td>\n",
       "      <td>2</td>\n",
       "    </tr>\n",
       "    <tr>\n",
       "      <th>14029</th>\n",
       "      <td>zrkd51</td>\n",
       "      <td>Embrii</td>\n",
       "      <td>gamesale</td>\n",
       "      <td>2017-03</td>\n",
       "      <td>2</td>\n",
       "    </tr>\n",
       "    <tr>\n",
       "      <th>14030</th>\n",
       "      <td>zunaidahmed</td>\n",
       "      <td>riflepwnage</td>\n",
       "      <td>gamesale</td>\n",
       "      <td>2016-12</td>\n",
       "      <td>2</td>\n",
       "    </tr>\n",
       "    <tr>\n",
       "      <th>14031</th>\n",
       "      <td>zxROLLTIDExz</td>\n",
       "      <td>WhosUrBuddiee</td>\n",
       "      <td>gamesale</td>\n",
       "      <td>2017-04</td>\n",
       "      <td>2</td>\n",
       "    </tr>\n",
       "    <tr>\n",
       "      <th>14032</th>\n",
       "      <td>zyltis</td>\n",
       "      <td>freezeflare</td>\n",
       "      <td>gameswap</td>\n",
       "      <td>2015-11</td>\n",
       "      <td>2</td>\n",
       "    </tr>\n",
       "  </tbody>\n",
       "</table>\n",
       "<p>14033 rows × 5 columns</p>\n",
       "</div>"
      ],
      "text/plain": [
       "                author      reply_author      type    month  count\n",
       "0      --El_Duderino--        Battlehead  gameswap  2018-01      2\n",
       "1      --El_Duderino--         CBUSraver  gameswap  2016-09      2\n",
       "2      --El_Duderino--        ComedyChef  gameswap  2016-05      2\n",
       "3      --El_Duderino--  FriendToGiraffes  gameswap  2017-03      2\n",
       "4      --El_Duderino--    HowelPendragon  gamesale  2016-11      2\n",
       "...                ...               ...       ...      ...    ...\n",
       "14028           zoozee  epicfamilydecals  gameswap  2016-06      2\n",
       "14029           zrkd51            Embrii  gamesale  2017-03      2\n",
       "14030      zunaidahmed       riflepwnage  gamesale  2016-12      2\n",
       "14031     zxROLLTIDExz     WhosUrBuddiee  gamesale  2017-04      2\n",
       "14032           zyltis       freezeflare  gameswap  2015-11      2\n",
       "\n",
       "[14033 rows x 5 columns]"
      ]
     },
     "execution_count": 34,
     "metadata": {},
     "output_type": "execute_result"
    }
   ],
   "source": [
    "transaction_at_month"
   ]
  },
  {
   "cell_type": "code",
   "execution_count": 31,
   "id": "d8e150b9",
   "metadata": {},
   "outputs": [],
   "source": [
    "cumulative_transactions = {}\n",
    "for month in months:\n",
    "    cumulative_transactions[month] = data.loc[data['month']<=month].groupby(['user','type']).size().reset_index(name='count').pivot(index='user', columns='type', values='count').fillna(0).astype(int)\n",
    "    if 'gamesale' not in cumulative_transactions[month].columns:\n",
    "        cumulative_transactions[month]['gamesale']=0\n",
    "    cumulative_transactions[month]['total'] = cumulative_transactions[month]['gamesale']+cumulative_transactions[month]['gameswap']\n",
    "    "
   ]
  },
  {
   "cell_type": "code",
   "execution_count": null,
   "id": "53914138",
   "metadata": {},
   "outputs": [
    {
     "data": {
      "text/html": [
       "<div>\n",
       "<style scoped>\n",
       "    .dataframe tbody tr th:only-of-type {\n",
       "        vertical-align: middle;\n",
       "    }\n",
       "\n",
       "    .dataframe tbody tr th {\n",
       "        vertical-align: top;\n",
       "    }\n",
       "\n",
       "    .dataframe thead th {\n",
       "        text-align: right;\n",
       "    }\n",
       "</style>\n",
       "<table border=\"1\" class=\"dataframe\">\n",
       "  <thead>\n",
       "    <tr style=\"text-align: right;\">\n",
       "      <th>type</th>\n",
       "      <th>gamesale</th>\n",
       "      <th>gameswap</th>\n",
       "      <th>total</th>\n",
       "    </tr>\n",
       "    <tr>\n",
       "      <th>author</th>\n",
       "      <th></th>\n",
       "      <th></th>\n",
       "      <th></th>\n",
       "    </tr>\n",
       "  </thead>\n",
       "  <tbody>\n",
       "    <tr>\n",
       "      <th>--El_Duderino--</th>\n",
       "      <td>14</td>\n",
       "      <td>38</td>\n",
       "      <td>52</td>\n",
       "    </tr>\n",
       "    <tr>\n",
       "      <th>-Elite-</th>\n",
       "      <td>2</td>\n",
       "      <td>0</td>\n",
       "      <td>2</td>\n",
       "    </tr>\n",
       "    <tr>\n",
       "      <th>-Shadowphoenix-</th>\n",
       "      <td>0</td>\n",
       "      <td>2</td>\n",
       "      <td>2</td>\n",
       "    </tr>\n",
       "    <tr>\n",
       "      <th>-ilikesnow-</th>\n",
       "      <td>2</td>\n",
       "      <td>0</td>\n",
       "      <td>2</td>\n",
       "    </tr>\n",
       "    <tr>\n",
       "      <th>-xphantom-</th>\n",
       "      <td>0</td>\n",
       "      <td>2</td>\n",
       "      <td>2</td>\n",
       "    </tr>\n",
       "    <tr>\n",
       "      <th>...</th>\n",
       "      <td>...</td>\n",
       "      <td>...</td>\n",
       "      <td>...</td>\n",
       "    </tr>\n",
       "    <tr>\n",
       "      <th>zoozee</th>\n",
       "      <td>0</td>\n",
       "      <td>2</td>\n",
       "      <td>2</td>\n",
       "    </tr>\n",
       "    <tr>\n",
       "      <th>zrkd51</th>\n",
       "      <td>2</td>\n",
       "      <td>0</td>\n",
       "      <td>2</td>\n",
       "    </tr>\n",
       "    <tr>\n",
       "      <th>zunaidahmed</th>\n",
       "      <td>2</td>\n",
       "      <td>0</td>\n",
       "      <td>2</td>\n",
       "    </tr>\n",
       "    <tr>\n",
       "      <th>zxROLLTIDExz</th>\n",
       "      <td>2</td>\n",
       "      <td>0</td>\n",
       "      <td>2</td>\n",
       "    </tr>\n",
       "    <tr>\n",
       "      <th>zyltis</th>\n",
       "      <td>0</td>\n",
       "      <td>2</td>\n",
       "      <td>2</td>\n",
       "    </tr>\n",
       "  </tbody>\n",
       "</table>\n",
       "<p>3639 rows × 3 columns</p>\n",
       "</div>"
      ],
      "text/plain": [
       "type             gamesale  gameswap  total\n",
       "author                                    \n",
       "--El_Duderino--        14        38     52\n",
       "-Elite-                 2         0      2\n",
       "-Shadowphoenix-         0         2      2\n",
       "-ilikesnow-             2         0      2\n",
       "-xphantom-              0         2      2\n",
       "...                   ...       ...    ...\n",
       "zoozee                  0         2      2\n",
       "zrkd51                  2         0      2\n",
       "zunaidahmed             2         0      2\n",
       "zxROLLTIDExz            2         0      2\n",
       "zyltis                  0         2      2\n",
       "\n",
       "[3639 rows x 3 columns]"
      ]
     },
     "execution_count": 36,
     "metadata": {},
     "output_type": "execute_result"
    }
   ],
   "source": [
    "cumulative_transactions[months[-1]] # The last month"
   ]
  },
  {
   "attachments": {},
   "cell_type": "markdown",
   "id": "fc0dc81f",
   "metadata": {},
   "source": [
    "### 2.1 Get transactions tuple\n",
    "For each month $t$, if in month $t+1$, users $A$ and $B$ have an transaction, then we store tuple $(A_t, B_t, t)$, where $A_t$ is the number of cumulative transactions of user $A$ till month $t$."
   ]
  },
  {
   "cell_type": "code",
   "execution_count": 35,
   "id": "0046a203",
   "metadata": {},
   "outputs": [
    {
     "name": "stdout",
     "output_type": "stream",
     "text": [
      "The number of users who have ever interacted in 2013-10 and 2013-11 is 18.\n",
      "The number of users who have ever interacted in 2013-12 and 2014-01 is 13.\n",
      "The number of users who have ever interacted in 2014-02 and 2014-03 is 24.\n",
      "The number of users who have ever interacted in 2014-04 and 2014-05 is 25.\n",
      "The number of users who have ever interacted in 2014-06 and 2014-07 is 21.\n",
      "The number of users who have ever interacted in 2014-08 and 2014-09 is 14.\n",
      "The number of users who have ever interacted in 2014-10 and 2014-11 is 11.\n",
      "The number of users who have ever interacted in 2014-12 and 2015-01 is 26.\n",
      "The number of users who have ever interacted in 2015-02 and 2015-03 is 40.\n",
      "The number of users who have ever interacted in 2015-04 and 2015-05 is 33.\n",
      "The number of users who have ever interacted in 2015-06 and 2015-07 is 45.\n",
      "The number of users who have ever interacted in 2015-08 and 2015-09 is 43.\n",
      "The number of users who have ever interacted in 2015-10 and 2015-11 is 41.\n",
      "The number of users who have ever interacted in 2015-12 and 2016-01 is 26.\n",
      "The number of users who have ever interacted in 2016-02 and 2016-03 is 24.\n",
      "The number of users who have ever interacted in 2016-04 and 2016-05 is 29.\n",
      "The number of users who have ever interacted in 2016-06 and 2016-07 is 23.\n",
      "The number of users who have ever interacted in 2016-08 and 2016-09 is 18.\n",
      "The number of users who have ever interacted in 2016-10 and 2016-11 is 17.\n",
      "The number of users who have ever interacted in 2016-12 and 2017-01 is 35.\n",
      "The number of users who have ever interacted in 2017-02 and 2017-03 is 28.\n",
      "The number of users who have ever interacted in 2017-04 and 2017-05 is 39.\n",
      "The number of users who have ever interacted in 2017-06 and 2017-07 is 43.\n",
      "The number of users who have ever interacted in 2017-08 and 2017-09 is 30.\n",
      "The number of users who have ever interacted in 2017-10 and 2017-11 is 28.\n",
      "The number of users who have ever interacted in 2017-12 and 2018-01 is 51.\n",
      "The number of users who have ever interacted in 2018-02 and 2018-03 is 60.\n",
      "The number of users who have ever interacted in 2018-04 and 2018-05 is 44.\n",
      "The number of users who have ever interacted in 2018-06 and 2018-07 is 48.\n",
      "The number of users who have ever interacted in 2018-08 and 2018-09 is 42.\n",
      "The number of users who have ever interacted in 2018-10 and 2018-11 is 54.\n"
     ]
    }
   ],
   "source": [
    "for pre_month, current_month in zip(months[::2], months[1::2]):\n",
    "    \n"
   ]
  }
 ],
 "metadata": {
  "kernelspec": {
   "display_name": "cs526",
   "language": "python",
   "name": "cs526"
  },
  "language_info": {
   "codemirror_mode": {
    "name": "ipython",
    "version": 3
   },
   "file_extension": ".py",
   "mimetype": "text/x-python",
   "name": "python",
   "nbconvert_exporter": "python",
   "pygments_lexer": "ipython3",
   "version": "3.9.16"
  }
 },
 "nbformat": 4,
 "nbformat_minor": 5
}
