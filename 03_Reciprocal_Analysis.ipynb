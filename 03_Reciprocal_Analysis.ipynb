{
 "cells": [
  {
   "cell_type": "markdown",
   "id": "7573226d-4f44-48af-8182-af60034f78bb",
   "metadata": {},
   "source": [
    "# Reciprocal Relationship between Bartering and Selling\n",
    "- When it comes to game exchange, do people prefer to exchange the game with someone who has exchanged before or someone who has not exchanged before? \n",
    "- What's the difference between game sales and game exchange?\n",
    "\n",
    "Here, we use logistic regression."
   ]
  },
  {
   "cell_type": "markdown",
   "id": "97677bf2-13a7-41f8-8b25-baede2051ab4",
   "metadata": {},
   "source": [
    "## 0. Load the data"
   ]
  },
  {
   "cell_type": "code",
   "execution_count": 1,
   "id": "a5a3804c-af85-4d23-9422-9f5cece76576",
   "metadata": {
    "ExecuteTime": {
     "end_time": "2023-04-26T01:03:52.302653Z",
     "start_time": "2023-04-26T01:03:52.300653Z"
    },
    "tags": [],
    "vscode": {
     "languageId": "python"
    }
   },
   "outputs": [],
   "source": [
    "import pandas as pd\n",
    "import pickle\n",
    "import matplotlib.pyplot as plt\n",
    "import seaborn as sns"
   ]
  },
  {
   "cell_type": "code",
   "execution_count": 2,
   "id": "1761de22",
   "metadata": {
    "ExecuteTime": {
     "end_time": "2023-04-26T01:04:00.262875Z",
     "start_time": "2023-04-26T01:04:00.255591Z"
    },
    "collapsed": false,
    "jupyter": {
     "outputs_hidden": false
    }
   },
   "outputs": [
    {
     "data": {
      "text/plain": [
       "'/home/jliu/project'"
      ]
     },
     "execution_count": 2,
     "metadata": {},
     "output_type": "execute_result"
    }
   ],
   "source": [
    "import os\n",
    "os.getcwd()"
   ]
  },
  {
   "cell_type": "code",
   "execution_count": 3,
   "id": "77cfd091",
   "metadata": {
    "ExecuteTime": {
     "end_time": "2023-04-26T01:05:03.247567Z",
     "start_time": "2023-04-26T01:05:03.164978Z"
    },
    "tags": [],
    "vscode": {
     "languageId": "python"
    }
   },
   "outputs": [],
   "source": [
    "# Load the data from pickle file\n",
    "with open('./data/transaction_history_all.pickle', 'rb') as f:\n",
    "    data_with_user = pd.read_pickle(f)\n",
    "\n",
    "# Choose only the data before 2019-01-01\n",
    "data_with_user = data_with_user.loc[data_with_user['created_utc']<='2018-12-31']"
   ]
  },
  {
   "cell_type": "code",
   "execution_count": 4,
   "id": "2b3d17dd",
   "metadata": {
    "ExecuteTime": {
     "end_time": "2023-04-26T01:06:19.613248Z",
     "start_time": "2023-04-26T01:06:19.605245Z"
    },
    "collapsed": false,
    "jupyter": {
     "outputs_hidden": false
    }
   },
   "outputs": [
    {
     "name": "stdout",
     "output_type": "stream",
     "text": [
      "/home/jliu/project\n"
     ]
    }
   ],
   "source": [
    "print(os.getcwd())"
   ]
  },
  {
   "cell_type": "code",
   "execution_count": 6,
   "id": "bd67c247-30e0-4584-adb6-3b2ccff6cbdb",
   "metadata": {
    "tags": [],
    "vscode": {
     "languageId": "python"
    }
   },
   "outputs": [
    {
     "data": {
      "text/html": [
       "<div>\n",
       "<style scoped>\n",
       "    .dataframe tbody tr th:only-of-type {\n",
       "        vertical-align: middle;\n",
       "    }\n",
       "\n",
       "    .dataframe tbody tr th {\n",
       "        vertical-align: top;\n",
       "    }\n",
       "\n",
       "    .dataframe thead th {\n",
       "        text-align: right;\n",
       "    }\n",
       "</style>\n",
       "<table border=\"1\" class=\"dataframe\">\n",
       "  <thead>\n",
       "    <tr style=\"text-align: right;\">\n",
       "      <th></th>\n",
       "      <th>user</th>\n",
       "      <th>index</th>\n",
       "      <th>author</th>\n",
       "      <th>body</th>\n",
       "      <th>created_utc</th>\n",
       "      <th>permalink</th>\n",
       "      <th>reply_author</th>\n",
       "      <th>reply_body</th>\n",
       "      <th>type</th>\n",
       "      <th>pred</th>\n",
       "      <th>subreddit</th>\n",
       "      <th>url</th>\n",
       "      <th>created_utc_original</th>\n",
       "    </tr>\n",
       "  </thead>\n",
       "  <tbody>\n",
       "    <tr>\n",
       "      <th>6</th>\n",
       "      <td>rdmentalist</td>\n",
       "      <td>rdmentalist_2</td>\n",
       "      <td>MrAce2C</td>\n",
       "      <td>Successful trade with u/rdmentalist. Gave Gear...</td>\n",
       "      <td>2016-10-23 21:59:35</td>\n",
       "      <td>/r/gameswap/comments/543ojp/completed_trade_th...</td>\n",
       "      <td>rdmentalist</td>\n",
       "      <td>Confirmed.</td>\n",
       "      <td>gameswap</td>\n",
       "      <td>NaN</td>\n",
       "      <td>gameswap</td>\n",
       "      <td>r/gameswap/comments/5906ut</td>\n",
       "      <td>2016-10-23 19:16:49</td>\n",
       "    </tr>\n",
       "    <tr>\n",
       "      <th>9</th>\n",
       "      <td>rdmentalist</td>\n",
       "      <td>rdmentalist_5</td>\n",
       "      <td>TradlyGent</td>\n",
       "      <td>swapped a 20% PSN code for Gears of War 1 and ...</td>\n",
       "      <td>2018-07-03 17:19:14</td>\n",
       "      <td>/r/gameswap/comments/7q4pkv/completed_swap_thr...</td>\n",
       "      <td>rdmentalist</td>\n",
       "      <td>Confirmed.</td>\n",
       "      <td>gameswap</td>\n",
       "      <td>NaN</td>\n",
       "      <td>gameswap</td>\n",
       "      <td>r/gameswap/comments/8pg7m1</td>\n",
       "      <td>2018-06-08 02:20:56</td>\n",
       "    </tr>\n",
       "    <tr>\n",
       "      <th>10</th>\n",
       "      <td>rdmentalist</td>\n",
       "      <td>rdmentalist_6</td>\n",
       "      <td>keokidream</td>\n",
       "      <td>Successful trade with /u/rdmentalist\\n\\nCall o...</td>\n",
       "      <td>2016-06-17 14:54:23</td>\n",
       "      <td>/r/gameswap/comments/4c351t/completed_trade_th...</td>\n",
       "      <td>rdmentalist</td>\n",
       "      <td>Confirmed! thanks</td>\n",
       "      <td>gameswap</td>\n",
       "      <td>NaN</td>\n",
       "      <td>gameswap</td>\n",
       "      <td>r/gameswap/comments/4ogyyf</td>\n",
       "      <td>2016-06-17 01:58:26</td>\n",
       "    </tr>\n",
       "    <tr>\n",
       "      <th>11</th>\n",
       "      <td>rdmentalist</td>\n",
       "      <td>rdmentalist_7</td>\n",
       "      <td>testicles_two</td>\n",
       "      <td>Traded Gears of War 1,2,3 and Judgement for $1...</td>\n",
       "      <td>2016-06-23 23:55:01</td>\n",
       "      <td>/r/gameswap/comments/4c351t/completed_trade_th...</td>\n",
       "      <td>rdmentalist</td>\n",
       "      <td>Confirmed ! thanks</td>\n",
       "      <td>gameswap</td>\n",
       "      <td>NaN</td>\n",
       "      <td>gameswap</td>\n",
       "      <td>r/gameswap/comments/4ovjzx</td>\n",
       "      <td>2016-06-19 22:29:56</td>\n",
       "    </tr>\n",
       "    <tr>\n",
       "      <th>12</th>\n",
       "      <td>rdmentalist</td>\n",
       "      <td>rdmentalist_8</td>\n",
       "      <td>walterpwn</td>\n",
       "      <td>Successful trade with [/u/rdmentalist](https:/...</td>\n",
       "      <td>2016-05-12 19:43:00</td>\n",
       "      <td>/r/gameswap/comments/4c351t/completed_trade_th...</td>\n",
       "      <td>rdmentalist</td>\n",
       "      <td>Confirmed :)</td>\n",
       "      <td>gameswap</td>\n",
       "      <td>NaN</td>\n",
       "      <td>gameswap</td>\n",
       "      <td>r/gameswap/comments/4iuc98</td>\n",
       "      <td>2016-05-11 10:49:48</td>\n",
       "    </tr>\n",
       "  </tbody>\n",
       "</table>\n",
       "</div>"
      ],
      "text/plain": [
       "           user          index         author  \\\n",
       "6   rdmentalist  rdmentalist_2        MrAce2C   \n",
       "9   rdmentalist  rdmentalist_5     TradlyGent   \n",
       "10  rdmentalist  rdmentalist_6     keokidream   \n",
       "11  rdmentalist  rdmentalist_7  testicles_two   \n",
       "12  rdmentalist  rdmentalist_8      walterpwn   \n",
       "\n",
       "                                                 body         created_utc  \\\n",
       "6   Successful trade with u/rdmentalist. Gave Gear... 2016-10-23 21:59:35   \n",
       "9   swapped a 20% PSN code for Gears of War 1 and ... 2018-07-03 17:19:14   \n",
       "10  Successful trade with /u/rdmentalist\\n\\nCall o... 2016-06-17 14:54:23   \n",
       "11  Traded Gears of War 1,2,3 and Judgement for $1... 2016-06-23 23:55:01   \n",
       "12  Successful trade with [/u/rdmentalist](https:/... 2016-05-12 19:43:00   \n",
       "\n",
       "                                            permalink reply_author  \\\n",
       "6   /r/gameswap/comments/543ojp/completed_trade_th...  rdmentalist   \n",
       "9   /r/gameswap/comments/7q4pkv/completed_swap_thr...  rdmentalist   \n",
       "10  /r/gameswap/comments/4c351t/completed_trade_th...  rdmentalist   \n",
       "11  /r/gameswap/comments/4c351t/completed_trade_th...  rdmentalist   \n",
       "12  /r/gameswap/comments/4c351t/completed_trade_th...  rdmentalist   \n",
       "\n",
       "            reply_body      type  pred subreddit                         url  \\\n",
       "6           Confirmed.  gameswap   NaN  gameswap  r/gameswap/comments/5906ut   \n",
       "9           Confirmed.  gameswap   NaN  gameswap  r/gameswap/comments/8pg7m1   \n",
       "10   Confirmed! thanks  gameswap   NaN  gameswap  r/gameswap/comments/4ogyyf   \n",
       "11  Confirmed ! thanks  gameswap   NaN  gameswap  r/gameswap/comments/4ovjzx   \n",
       "12        Confirmed :)  gameswap   NaN  gameswap  r/gameswap/comments/4iuc98   \n",
       "\n",
       "   created_utc_original  \n",
       "6   2016-10-23 19:16:49  \n",
       "9   2018-06-08 02:20:56  \n",
       "10  2016-06-17 01:58:26  \n",
       "11  2016-06-19 22:29:56  \n",
       "12  2016-05-11 10:49:48  "
      ]
     },
     "execution_count": 6,
     "metadata": {},
     "output_type": "execute_result"
    }
   ],
   "source": [
    "with open(\"./data/df_pre2019_original.pickle\", 'rb') as f:\n",
    "     data_with_original = pd.read_pickle(f)\n",
    "data_with_original.head()"
   ]
  },
  {
   "cell_type": "code",
   "execution_count": 7,
   "id": "96ea04e8",
   "metadata": {
    "vscode": {
     "languageId": "python"
    }
   },
   "outputs": [
    {
     "data": {
      "text/html": [
       "<div>\n",
       "<style scoped>\n",
       "    .dataframe tbody tr th:only-of-type {\n",
       "        vertical-align: middle;\n",
       "    }\n",
       "\n",
       "    .dataframe tbody tr th {\n",
       "        vertical-align: top;\n",
       "    }\n",
       "\n",
       "    .dataframe thead th {\n",
       "        text-align: right;\n",
       "    }\n",
       "</style>\n",
       "<table border=\"1\" class=\"dataframe\">\n",
       "  <thead>\n",
       "    <tr style=\"text-align: right;\">\n",
       "      <th></th>\n",
       "      <th>user</th>\n",
       "      <th>index</th>\n",
       "      <th>author</th>\n",
       "      <th>body</th>\n",
       "      <th>created_utc</th>\n",
       "      <th>permalink</th>\n",
       "      <th>reply_author</th>\n",
       "      <th>reply_body</th>\n",
       "      <th>type</th>\n",
       "      <th>pred</th>\n",
       "      <th>subreddit</th>\n",
       "      <th>url</th>\n",
       "      <th>created_utc_original</th>\n",
       "    </tr>\n",
       "  </thead>\n",
       "  <tbody>\n",
       "    <tr>\n",
       "      <th>6</th>\n",
       "      <td>rdmentalist</td>\n",
       "      <td>rdmentalist_2</td>\n",
       "      <td>MrAce2C</td>\n",
       "      <td>Successful trade with u/rdmentalist. Gave Gear...</td>\n",
       "      <td>2016-10-23 21:59:35</td>\n",
       "      <td>/r/gameswap/comments/543ojp/completed_trade_th...</td>\n",
       "      <td>rdmentalist</td>\n",
       "      <td>Confirmed.</td>\n",
       "      <td>gameswap</td>\n",
       "      <td>NaN</td>\n",
       "      <td>gameswap</td>\n",
       "      <td>r/gameswap/comments/5906ut</td>\n",
       "      <td>2016-10-23 19:16:49</td>\n",
       "    </tr>\n",
       "    <tr>\n",
       "      <th>9</th>\n",
       "      <td>rdmentalist</td>\n",
       "      <td>rdmentalist_5</td>\n",
       "      <td>TradlyGent</td>\n",
       "      <td>swapped a 20% PSN code for Gears of War 1 and ...</td>\n",
       "      <td>2018-07-03 17:19:14</td>\n",
       "      <td>/r/gameswap/comments/7q4pkv/completed_swap_thr...</td>\n",
       "      <td>rdmentalist</td>\n",
       "      <td>Confirmed.</td>\n",
       "      <td>gameswap</td>\n",
       "      <td>NaN</td>\n",
       "      <td>gameswap</td>\n",
       "      <td>r/gameswap/comments/8pg7m1</td>\n",
       "      <td>2018-06-08 02:20:56</td>\n",
       "    </tr>\n",
       "    <tr>\n",
       "      <th>10</th>\n",
       "      <td>rdmentalist</td>\n",
       "      <td>rdmentalist_6</td>\n",
       "      <td>keokidream</td>\n",
       "      <td>Successful trade with /u/rdmentalist\\n\\nCall o...</td>\n",
       "      <td>2016-06-17 14:54:23</td>\n",
       "      <td>/r/gameswap/comments/4c351t/completed_trade_th...</td>\n",
       "      <td>rdmentalist</td>\n",
       "      <td>Confirmed! thanks</td>\n",
       "      <td>gameswap</td>\n",
       "      <td>NaN</td>\n",
       "      <td>gameswap</td>\n",
       "      <td>r/gameswap/comments/4ogyyf</td>\n",
       "      <td>2016-06-17 01:58:26</td>\n",
       "    </tr>\n",
       "    <tr>\n",
       "      <th>11</th>\n",
       "      <td>rdmentalist</td>\n",
       "      <td>rdmentalist_7</td>\n",
       "      <td>testicles_two</td>\n",
       "      <td>Traded Gears of War 1,2,3 and Judgement for $1...</td>\n",
       "      <td>2016-06-23 23:55:01</td>\n",
       "      <td>/r/gameswap/comments/4c351t/completed_trade_th...</td>\n",
       "      <td>rdmentalist</td>\n",
       "      <td>Confirmed ! thanks</td>\n",
       "      <td>gameswap</td>\n",
       "      <td>NaN</td>\n",
       "      <td>gameswap</td>\n",
       "      <td>r/gameswap/comments/4ovjzx</td>\n",
       "      <td>2016-06-19 22:29:56</td>\n",
       "    </tr>\n",
       "    <tr>\n",
       "      <th>12</th>\n",
       "      <td>rdmentalist</td>\n",
       "      <td>rdmentalist_8</td>\n",
       "      <td>walterpwn</td>\n",
       "      <td>Successful trade with [/u/rdmentalist](https:/...</td>\n",
       "      <td>2016-05-12 19:43:00</td>\n",
       "      <td>/r/gameswap/comments/4c351t/completed_trade_th...</td>\n",
       "      <td>rdmentalist</td>\n",
       "      <td>Confirmed :)</td>\n",
       "      <td>gameswap</td>\n",
       "      <td>NaN</td>\n",
       "      <td>gameswap</td>\n",
       "      <td>r/gameswap/comments/4iuc98</td>\n",
       "      <td>2016-05-11 10:49:48</td>\n",
       "    </tr>\n",
       "  </tbody>\n",
       "</table>\n",
       "</div>"
      ],
      "text/plain": [
       "           user          index         author  \\\n",
       "6   rdmentalist  rdmentalist_2        MrAce2C   \n",
       "9   rdmentalist  rdmentalist_5     TradlyGent   \n",
       "10  rdmentalist  rdmentalist_6     keokidream   \n",
       "11  rdmentalist  rdmentalist_7  testicles_two   \n",
       "12  rdmentalist  rdmentalist_8      walterpwn   \n",
       "\n",
       "                                                 body         created_utc  \\\n",
       "6   Successful trade with u/rdmentalist. Gave Gear... 2016-10-23 21:59:35   \n",
       "9   swapped a 20% PSN code for Gears of War 1 and ... 2018-07-03 17:19:14   \n",
       "10  Successful trade with /u/rdmentalist\\n\\nCall o... 2016-06-17 14:54:23   \n",
       "11  Traded Gears of War 1,2,3 and Judgement for $1... 2016-06-23 23:55:01   \n",
       "12  Successful trade with [/u/rdmentalist](https:/... 2016-05-12 19:43:00   \n",
       "\n",
       "                                            permalink reply_author  \\\n",
       "6   /r/gameswap/comments/543ojp/completed_trade_th...  rdmentalist   \n",
       "9   /r/gameswap/comments/7q4pkv/completed_swap_thr...  rdmentalist   \n",
       "10  /r/gameswap/comments/4c351t/completed_trade_th...  rdmentalist   \n",
       "11  /r/gameswap/comments/4c351t/completed_trade_th...  rdmentalist   \n",
       "12  /r/gameswap/comments/4c351t/completed_trade_th...  rdmentalist   \n",
       "\n",
       "            reply_body      type  pred subreddit                         url  \\\n",
       "6           Confirmed.  gameswap   NaN  gameswap  r/gameswap/comments/5906ut   \n",
       "9           Confirmed.  gameswap   NaN  gameswap  r/gameswap/comments/8pg7m1   \n",
       "10   Confirmed! thanks  gameswap   NaN  gameswap  r/gameswap/comments/4ogyyf   \n",
       "11  Confirmed ! thanks  gameswap   NaN  gameswap  r/gameswap/comments/4ovjzx   \n",
       "12        Confirmed :)  gameswap   NaN  gameswap  r/gameswap/comments/4iuc98   \n",
       "\n",
       "   created_utc_original  \n",
       "6   2016-10-23 19:16:49  \n",
       "9   2018-06-08 02:20:56  \n",
       "10  2016-06-17 01:58:26  \n",
       "11  2016-06-19 22:29:56  \n",
       "12  2016-05-11 10:49:48  "
      ]
     },
     "metadata": {},
     "output_type": "display_data"
    }
   ],
   "source": [
    "data_with_original['user']=data_with_user['user']\n",
    "data = data_with_original.copy()\n",
    "display(data.head())"
   ]
  },
  {
   "cell_type": "markdown",
   "id": "64cb52f8-ca43-496b-bd5a-be409697e3ae",
   "metadata": {},
   "source": [
    "## 1. Preprocessing\n",
    "- The bot may record wrongly the confirmantion.\n",
    "- Some Reddit users may delete their accounts.\n",
    "\n",
    "**We ignore these cases by deleting these rows.**"
   ]
  },
  {
   "cell_type": "code",
   "execution_count": 8,
   "id": "2922331b",
   "metadata": {
    "vscode": {
     "languageId": "python"
    }
   },
   "outputs": [
    {
     "name": "stdout",
     "output_type": "stream",
     "text": [
      "Number of deleted users:  1514\n",
      "Remaining rows of confirmantion data: 27190\n"
     ]
    }
   ],
   "source": [
    "# Select the rows that have a user that is not deleted.\n",
    "data = data.loc[~data['user'].isna()]\n",
    "\n",
    "print(\"Number of deleted users: \", data.loc[(data['author']=='[deleted]')|(data['reply_author']=='[deleted]')].shape[0])\n",
    "data = data.loc[(data['author']!='[deleted]') & (data['reply_author']!='[deleted]')]\n",
    "\n",
    "print(\"Remaining rows of confirmantion data:\", data.shape[0])\n",
    "# data['created_utc'].describe(datetime_is_numeric=True)"
   ]
  },
  {
   "cell_type": "markdown",
   "id": "4a0f4443-00a2-4b80-8469-5a487edd6c29",
   "metadata": {},
   "source": [
    "## 2. Active users"
   ]
  },
  {
   "cell_type": "code",
   "execution_count": 9,
   "id": "129acb05-9f20-444b-b935-547e06273936",
   "metadata": {
    "tags": [],
    "vscode": {
     "languageId": "python"
    }
   },
   "outputs": [
    {
     "name": "stdout",
     "output_type": "stream",
     "text": [
      "Active users in r/GameSwap: 1380\n",
      "Active users in r/GameSale: 2683\n",
      "Active users in both communities: 424\n"
     ]
    }
   ],
   "source": [
    "data_sale = data.loc[data['type']=='gamesale']\n",
    "data_swap = data.loc[data['type']=='gameswap']\n",
    "\n",
    "swap_user = set(data_swap['author'])\n",
    "sale_user = set(data_sale['author'])\n",
    "both_user = swap_user.intersection(sale_user)\n",
    "\n",
    "print(\"Active users in r/GameSwap:\", len(swap_user))\n",
    "print(\"Active users in r/GameSale:\", len(sale_user))\n",
    "print(\"Active users in both communities:\", len(both_user))"
   ]
  },
  {
   "cell_type": "markdown",
   "id": "ef6ec623-3288-4727-964e-5716793cfa51",
   "metadata": {},
   "source": [
    "## 3. Interactions"
   ]
  },
  {
   "cell_type": "code",
   "execution_count": 10,
   "id": "f31b86b6",
   "metadata": {
    "vscode": {
     "languageId": "python"
    }
   },
   "outputs": [],
   "source": [
    "# Get the months in created_utc\n",
    "data['month']=data['created_utc'].dt.to_period('M')\n",
    "months = data['month'].sort_values().unique()\n",
    "\n",
    "# Get the number of transactions in each month.\n",
    "# So we can see if two users have ever interacted in the given month.\n",
    "transaction_at_month = data.groupby(['author', 'reply_author', 'type', 'month', 'user']).size().reset_index(name='count')"
   ]
  },
  {
   "cell_type": "code",
   "execution_count": 11,
   "id": "55c136de",
   "metadata": {
    "vscode": {
     "languageId": "python"
    }
   },
   "outputs": [],
   "source": [
    "interactions = transaction_at_month.pivot(index=['author','reply_author','month','user'], columns='type', values='count').fillna(0).astype(int).reset_index().rename_axis(None, axis=1)\n",
    "interactions['total'] = interactions['gamesale'] + interactions['gameswap']\n",
    "\n",
    "# Lowercase the author and reply_author\n",
    "interactions['author'] = interactions['author'].str.lower()\n",
    "interactions['reply_author'] = interactions['reply_author'].str.lower()\n",
    "\n",
    "# Drop the rows that have the same author, reply_author, and month because each transaction will be counted twice because that there are two users.\n",
    "interactions = interactions.drop_duplicates(subset=['author','reply_author','month'], keep='first')\n",
    "\n",
    "# Create a new column called pair, is the set of (author, reply_author, user)\n",
    "# So this column can be used to check if two users have ever interacted.\n",
    "interactions['pair'] = interactions.apply(lambda x: set(sorted([x['author'], x['reply_author'], x['user']])), axis=1)"
   ]
  },
  {
   "cell_type": "code",
   "execution_count": 12,
   "id": "017cc3d7",
   "metadata": {
    "vscode": {
     "languageId": "python"
    }
   },
   "outputs": [],
   "source": [
    "# temp = interactions.sort_values(by=['author','reply_author','month'],).iloc[3:5,:]['pair'].values\n",
    "# print(temp)\n",
    "# temp[0]==temp[1]"
   ]
  },
  {
   "cell_type": "markdown",
   "id": "1967c8d1",
   "metadata": {},
   "source": [
    "## 4. Cumulative Transactions\n",
    "Here we store the cumulative transactions of user till each month."
   ]
  },
  {
   "cell_type": "code",
   "execution_count": 13,
   "id": "71930e2c",
   "metadata": {
    "vscode": {
     "languageId": "python"
    }
   },
   "outputs": [],
   "source": [
    "tranc = data.groupby(['user','type','month']).size().reset_index(name='count').pivot(index=['user','month'], columns='type', values='count').fillna(0).astype(int).reset_index().rename_axis(None, axis=1)\n",
    "tranc['year'] = tranc['month'].dt.year"
   ]
  },
  {
   "cell_type": "code",
   "execution_count": 14,
   "id": "d8e150b9",
   "metadata": {
    "vscode": {
     "languageId": "python"
    }
   },
   "outputs": [],
   "source": [
    "cumulative_transactions = {}\n",
    "for month in months:\n",
    "    # Get the total transactions of a user no later than the given month\n",
    "    cumulative_transactions[month] = data.loc[data['month'] <= month].groupby(['user','type']).size().reset_index(name='count').pivot(index='user', columns='type', values='count').fillna(0).astype(int)\n",
    "    if 'gamesale' not in cumulative_transactions[month].columns:\n",
    "        cumulative_transactions[month]['gamesale'] = 0\n",
    "    cumulative_transactions[month]['total'] = cumulative_transactions[month]['gamesale'] + cumulative_transactions[month]['gameswap']\n",
    "    cumulative_transactions[month] = cumulative_transactions[month].reset_index().rename_axis(None, axis=1)\n",
    "    # Add the month column\n",
    "    cumulative_transactions[month]['month'] = month\n",
    "\n",
    "# Combine all the dataframes into one, called trans_till_month\n",
    "trans_till_month = pd.concat(cumulative_transactions.values(), ignore_index=True)\n",
    "# Add a year column\n",
    "trans_till_month['year'] = trans_till_month['month'].dt.year\n"
   ]
  },
  {
   "cell_type": "markdown",
   "id": "9dd1b57f",
   "metadata": {},
   "source": [
    "## 5. Analysis"
   ]
  },
  {
   "cell_type": "markdown",
   "id": "9913a4b5",
   "metadata": {},
   "source": [
    "### 5.1 Relationship between Bartering and Selling"
   ]
  },
  {
   "cell_type": "code",
   "execution_count": 15,
   "id": "ab9f6258",
   "metadata": {
    "vscode": {
     "languageId": "python"
    }
   },
   "outputs": [
    {
     "data": {
      "image/png": "[encoded data removed]",
      "text/plain": [
       "<Figure size 1500x1000 with 6 Axes>"
      ]
     },
     "metadata": {},
     "output_type": "display_data"
    },
    {
     "data": {
      "text/plain": [
       "<Figure size 640x480 with 0 Axes>"
      ]
     },
     "metadata": {},
     "output_type": "display_data"
    }
   ],
   "source": [
    "# Plot each year's relationship between gameswap and gamesale, 6 plots in total, tranc\n",
    "fig, axes = plt.subplots(2, 3, figsize=(15, 10))\n",
    "for i, year in enumerate(sorted(tranc['year'].unique())):\n",
    "    ax = axes[i//3, i%3]\n",
    "    ax.set_title('Year: '+str(year))\n",
    "    sns.scatterplot(x='gameswap', y='gamesale', data=tranc.loc[tranc['year']==year], ax=ax)\n",
    "\n",
    "plt.show()\n",
    "plt.savefig('plot/transaction_per_year.png')\n"
   ]
  },
  {
   "cell_type": "markdown",
   "id": "fc0dc81f",
   "metadata": {},
   "source": [
    "### 2.1 Get transactions tuple\n",
    "For each month $t$, if in month $t+1$, users $A$ and $B$ have an transaction, then we store tuple $(A_t, B_t, t)$, where $A_t$ is the number of cumulative transactions of user $A$ till month $t$."
   ]
  },
  {
   "cell_type": "code",
   "execution_count": 16,
   "id": "20b29e94",
   "metadata": {
    "vscode": {
     "languageId": "python"
    }
   },
   "outputs": [],
   "source": [
    "def merge_by_author(pre_month, current_month, current_data):\n",
    "    temp = pd.merge(current_data, cumulative_transactions[pre_month][['user','total']], left_on=current_data['author'].str.lower(), right_on='user', how='left')\n",
    "    final = pd.merge(temp, cumulative_transactions[pre_month][['user','total']], left_on=temp['reply_author'].str.lower(), right_on='user', how='left')\n",
    "    final = final.drop(['user','user_x','user_y'], axis=1)\n",
    "    final = final.rename(columns={'total_x':'author_total','total_y':'reply_author_total'})\n",
    "    final = final.fillna(0)\n",
    "    return final"
   ]
  },
  {
   "cell_type": "code",
   "execution_count": 17,
   "id": "0046a203",
   "metadata": {
    "vscode": {
     "languageId": "python"
    }
   },
   "outputs": [],
   "source": [
    "df_all = []\n",
    "for pre_month, current_month in zip(months[::], months[1::]):\n",
    "    # Get the users who have interacted in the current month\n",
    "    current_data = interactions.loc[(interactions['month']==current_month)&(interactions['total']>=1)][['author','reply_author']]\n",
    "    \n",
    "    processed_current = merge_by_author(pre_month, current_month, current_data)\n",
    "    processed_current['month'] = pre_month\n",
    "    df_all.append(processed_current)\n",
    "\n",
    "df_all = pd.concat(df_all)"
   ]
  },
  {
   "cell_type": "code",
   "execution_count": 18,
   "id": "7a9dc314",
   "metadata": {
    "vscode": {
     "languageId": "python"
    }
   },
   "outputs": [
    {
     "data": {
      "text/html": [
       "<div>\n",
       "<style scoped>\n",
       "    .dataframe tbody tr th:only-of-type {\n",
       "        vertical-align: middle;\n",
       "    }\n",
       "\n",
       "    .dataframe tbody tr th {\n",
       "        vertical-align: top;\n",
       "    }\n",
       "\n",
       "    .dataframe thead th {\n",
       "        text-align: right;\n",
       "    }\n",
       "</style>\n",
       "<table border=\"1\" class=\"dataframe\">\n",
       "  <thead>\n",
       "    <tr style=\"text-align: right;\">\n",
       "      <th></th>\n",
       "      <th>author</th>\n",
       "      <th>reply_author</th>\n",
       "      <th>author_total</th>\n",
       "      <th>reply_author_total</th>\n",
       "      <th>month</th>\n",
       "    </tr>\n",
       "  </thead>\n",
       "  <tbody>\n",
       "    <tr>\n",
       "      <th>0</th>\n",
       "      <td>3gsid</td>\n",
       "      <td>marcymarcmarc</td>\n",
       "      <td>1.0</td>\n",
       "      <td>5.0</td>\n",
       "      <td>2013-10</td>\n",
       "    </tr>\n",
       "    <tr>\n",
       "      <th>1</th>\n",
       "      <td>arcanis888</td>\n",
       "      <td>0nlyher0</td>\n",
       "      <td>1.0</td>\n",
       "      <td>1.0</td>\n",
       "      <td>2013-10</td>\n",
       "    </tr>\n",
       "    <tr>\n",
       "      <th>2</th>\n",
       "      <td>autoham</td>\n",
       "      <td>rheally</td>\n",
       "      <td>2.0</td>\n",
       "      <td>0.0</td>\n",
       "      <td>2013-10</td>\n",
       "    </tr>\n",
       "    <tr>\n",
       "      <th>3</th>\n",
       "      <td>betaboy23</td>\n",
       "      <td>zerox2306</td>\n",
       "      <td>1.0</td>\n",
       "      <td>0.0</td>\n",
       "      <td>2013-10</td>\n",
       "    </tr>\n",
       "    <tr>\n",
       "      <th>4</th>\n",
       "      <td>betom</td>\n",
       "      <td>dannydrabik</td>\n",
       "      <td>0.0</td>\n",
       "      <td>0.0</td>\n",
       "      <td>2013-10</td>\n",
       "    </tr>\n",
       "    <tr>\n",
       "      <th>...</th>\n",
       "      <td>...</td>\n",
       "      <td>...</td>\n",
       "      <td>...</td>\n",
       "      <td>...</td>\n",
       "      <td>...</td>\n",
       "    </tr>\n",
       "    <tr>\n",
       "      <th>287</th>\n",
       "      <td>yugidementia</td>\n",
       "      <td>lucario_ftw</td>\n",
       "      <td>3.0</td>\n",
       "      <td>2.0</td>\n",
       "      <td>2018-11</td>\n",
       "    </tr>\n",
       "    <tr>\n",
       "      <th>288</th>\n",
       "      <td>yugidementia</td>\n",
       "      <td>stela_thylacine</td>\n",
       "      <td>3.0</td>\n",
       "      <td>0.0</td>\n",
       "      <td>2018-11</td>\n",
       "    </tr>\n",
       "    <tr>\n",
       "      <th>289</th>\n",
       "      <td>yugidementia</td>\n",
       "      <td>arandomuzzerame</td>\n",
       "      <td>3.0</td>\n",
       "      <td>36.0</td>\n",
       "      <td>2018-11</td>\n",
       "    </tr>\n",
       "    <tr>\n",
       "      <th>290</th>\n",
       "      <td>yugidementia</td>\n",
       "      <td>bulldawgblitz</td>\n",
       "      <td>3.0</td>\n",
       "      <td>13.0</td>\n",
       "      <td>2018-11</td>\n",
       "    </tr>\n",
       "    <tr>\n",
       "      <th>291</th>\n",
       "      <td>yugidementia</td>\n",
       "      <td>doctorquien28</td>\n",
       "      <td>3.0</td>\n",
       "      <td>11.0</td>\n",
       "      <td>2018-11</td>\n",
       "    </tr>\n",
       "  </tbody>\n",
       "</table>\n",
       "<p>13236 rows × 5 columns</p>\n",
       "</div>"
      ],
      "text/plain": [
       "           author     reply_author  author_total  reply_author_total    month\n",
       "0           3gsid    marcymarcmarc           1.0                 5.0  2013-10\n",
       "1      arcanis888         0nlyher0           1.0                 1.0  2013-10\n",
       "2         autoham          rheally           2.0                 0.0  2013-10\n",
       "3       betaboy23        zerox2306           1.0                 0.0  2013-10\n",
       "4           betom      dannydrabik           0.0                 0.0  2013-10\n",
       "..            ...              ...           ...                 ...      ...\n",
       "287  yugidementia      lucario_ftw           3.0                 2.0  2018-11\n",
       "288  yugidementia  stela_thylacine           3.0                 0.0  2018-11\n",
       "289  yugidementia  arandomuzzerame           3.0                36.0  2018-11\n",
       "290  yugidementia    bulldawgblitz           3.0                13.0  2018-11\n",
       "291  yugidementia    doctorquien28           3.0                11.0  2018-11\n",
       "\n",
       "[13236 rows x 5 columns]"
      ]
     },
     "execution_count": 18,
     "metadata": {},
     "output_type": "execute_result"
    }
   ],
   "source": [
    "df_all"
   ]
  },
  {
   "cell_type": "code",
   "execution_count": 19,
   "id": "253785b1",
   "metadata": {
    "vscode": {
     "languageId": "python"
    }
   },
   "outputs": [
    {
     "data": {
      "text/html": [
       "<div>\n",
       "<style scoped>\n",
       "    .dataframe tbody tr th:only-of-type {\n",
       "        vertical-align: middle;\n",
       "    }\n",
       "\n",
       "    .dataframe tbody tr th {\n",
       "        vertical-align: top;\n",
       "    }\n",
       "\n",
       "    .dataframe thead th {\n",
       "        text-align: right;\n",
       "    }\n",
       "</style>\n",
       "<table border=\"1\" class=\"dataframe\">\n",
       "  <thead>\n",
       "    <tr style=\"text-align: right;\">\n",
       "      <th></th>\n",
       "      <th>author</th>\n",
       "      <th>reply_author</th>\n",
       "      <th>author_total</th>\n",
       "      <th>reply_author_total</th>\n",
       "      <th>month</th>\n",
       "      <th>year</th>\n",
       "    </tr>\n",
       "  </thead>\n",
       "  <tbody>\n",
       "    <tr>\n",
       "      <th>0</th>\n",
       "      <td>3gsid</td>\n",
       "      <td>marcymarcmarc</td>\n",
       "      <td>1.0</td>\n",
       "      <td>5.0</td>\n",
       "      <td>2013-10</td>\n",
       "      <td>2013</td>\n",
       "    </tr>\n",
       "    <tr>\n",
       "      <th>1</th>\n",
       "      <td>arcanis888</td>\n",
       "      <td>0nlyher0</td>\n",
       "      <td>1.0</td>\n",
       "      <td>1.0</td>\n",
       "      <td>2013-10</td>\n",
       "      <td>2013</td>\n",
       "    </tr>\n",
       "    <tr>\n",
       "      <th>2</th>\n",
       "      <td>autoham</td>\n",
       "      <td>rheally</td>\n",
       "      <td>2.0</td>\n",
       "      <td>0.0</td>\n",
       "      <td>2013-10</td>\n",
       "      <td>2013</td>\n",
       "    </tr>\n",
       "    <tr>\n",
       "      <th>3</th>\n",
       "      <td>betaboy23</td>\n",
       "      <td>zerox2306</td>\n",
       "      <td>1.0</td>\n",
       "      <td>0.0</td>\n",
       "      <td>2013-10</td>\n",
       "      <td>2013</td>\n",
       "    </tr>\n",
       "    <tr>\n",
       "      <th>4</th>\n",
       "      <td>betom</td>\n",
       "      <td>dannydrabik</td>\n",
       "      <td>0.0</td>\n",
       "      <td>0.0</td>\n",
       "      <td>2013-10</td>\n",
       "      <td>2013</td>\n",
       "    </tr>\n",
       "    <tr>\n",
       "      <th>...</th>\n",
       "      <td>...</td>\n",
       "      <td>...</td>\n",
       "      <td>...</td>\n",
       "      <td>...</td>\n",
       "      <td>...</td>\n",
       "      <td>...</td>\n",
       "    </tr>\n",
       "    <tr>\n",
       "      <th>287</th>\n",
       "      <td>yugidementia</td>\n",
       "      <td>lucario_ftw</td>\n",
       "      <td>3.0</td>\n",
       "      <td>2.0</td>\n",
       "      <td>2018-11</td>\n",
       "      <td>2018</td>\n",
       "    </tr>\n",
       "    <tr>\n",
       "      <th>288</th>\n",
       "      <td>yugidementia</td>\n",
       "      <td>stela_thylacine</td>\n",
       "      <td>3.0</td>\n",
       "      <td>0.0</td>\n",
       "      <td>2018-11</td>\n",
       "      <td>2018</td>\n",
       "    </tr>\n",
       "    <tr>\n",
       "      <th>289</th>\n",
       "      <td>yugidementia</td>\n",
       "      <td>arandomuzzerame</td>\n",
       "      <td>3.0</td>\n",
       "      <td>36.0</td>\n",
       "      <td>2018-11</td>\n",
       "      <td>2018</td>\n",
       "    </tr>\n",
       "    <tr>\n",
       "      <th>290</th>\n",
       "      <td>yugidementia</td>\n",
       "      <td>bulldawgblitz</td>\n",
       "      <td>3.0</td>\n",
       "      <td>13.0</td>\n",
       "      <td>2018-11</td>\n",
       "      <td>2018</td>\n",
       "    </tr>\n",
       "    <tr>\n",
       "      <th>291</th>\n",
       "      <td>yugidementia</td>\n",
       "      <td>doctorquien28</td>\n",
       "      <td>3.0</td>\n",
       "      <td>11.0</td>\n",
       "      <td>2018-11</td>\n",
       "      <td>2018</td>\n",
       "    </tr>\n",
       "  </tbody>\n",
       "</table>\n",
       "<p>13236 rows × 6 columns</p>\n",
       "</div>"
      ],
      "text/plain": [
       "           author     reply_author  author_total  reply_author_total    month  \\\n",
       "0           3gsid    marcymarcmarc           1.0                 5.0  2013-10   \n",
       "1      arcanis888         0nlyher0           1.0                 1.0  2013-10   \n",
       "2         autoham          rheally           2.0                 0.0  2013-10   \n",
       "3       betaboy23        zerox2306           1.0                 0.0  2013-10   \n",
       "4           betom      dannydrabik           0.0                 0.0  2013-10   \n",
       "..            ...              ...           ...                 ...      ...   \n",
       "287  yugidementia      lucario_ftw           3.0                 2.0  2018-11   \n",
       "288  yugidementia  stela_thylacine           3.0                 0.0  2018-11   \n",
       "289  yugidementia  arandomuzzerame           3.0                36.0  2018-11   \n",
       "290  yugidementia    bulldawgblitz           3.0                13.0  2018-11   \n",
       "291  yugidementia    doctorquien28           3.0                11.0  2018-11   \n",
       "\n",
       "     year  \n",
       "0    2013  \n",
       "1    2013  \n",
       "2    2013  \n",
       "3    2013  \n",
       "4    2013  \n",
       "..    ...  \n",
       "287  2018  \n",
       "288  2018  \n",
       "289  2018  \n",
       "290  2018  \n",
       "291  2018  \n",
       "\n",
       "[13236 rows x 6 columns]"
      ]
     },
     "execution_count": 19,
     "metadata": {},
     "output_type": "execute_result"
    }
   ],
   "source": [
    "# Add a column of year\n",
    "df_all['year'] = df_all['month'].dt.year\n",
    "df_all"
   ]
  },
  {
   "cell_type": "code",
   "execution_count": 20,
   "id": "0d75c7eb",
   "metadata": {
    "vscode": {
     "languageId": "python"
    }
   },
   "outputs": [],
   "source": [
    "# Reverse column 1 and 2,  3 and 4\n",
    "df_all_reverse = df_all.copy()\n",
    "df_all_reverse[['author','reply_author']] = df_all_reverse[['reply_author','author']]\n",
    "df_all_reverse[['author_total','reply_author_total']] = df_all_reverse[['reply_author_total','author_total']]\n",
    "\n",
    "df = pd.concat([df_all, df_all_reverse])"
   ]
  },
  {
   "cell_type": "code",
   "execution_count": 21,
   "id": "8ea96f61",
   "metadata": {
    "vscode": {
     "languageId": "python"
    }
   },
   "outputs": [],
   "source": [
    "# Get author_total == 1\n",
    "cum_year = df.loc[(df['author_total']<=0) & \n",
    "                  (df['reply_author_total']<=100) &\n",
    "                  (df['reply_author_total']>=0)]\n",
    "data_to_plot = [cum_year.loc[cum_year['year']==year,'reply_author_total'] for year in range(2014,2019)]\n"
   ]
  },
  {
   "cell_type": "code",
   "execution_count": 22,
   "id": "088c09b2",
   "metadata": {
    "vscode": {
     "languageId": "python"
    }
   },
   "outputs": [
    {
     "data": {
      "text/plain": [
       "<matplotlib.legend.Legend at 0x7fec30f57670>"
      ]
     },
     "execution_count": 22,
     "metadata": {},
     "output_type": "execute_result"
    },
    {
     "data": {
      "image/png": "[encoded data removed]",
      "text/plain": [
       "<Figure size 640x480 with 1 Axes>"
      ]
     },
     "metadata": {},
     "output_type": "display_data"
    }
   ],
   "source": [
    "plt.hist(data_to_plot,  alpha=0.5, label=[2014,2015,2016,2017,2018], bins=range(0,50,1), stacked=True, )\n",
    "plt.legend(loc='upper right')"
   ]
  },
  {
   "cell_type": "code",
   "execution_count": null,
   "id": "58fc57e6",
   "metadata": {
    "vscode": {
     "languageId": "python"
    }
   },
   "outputs": [],
   "source": []
  }
 ],
 "metadata": {
  "kernelspec": {
   "display_name": "cs526",
   "language": "python",
   "name": "cs526"
  },
  "language_info": {
   "codemirror_mode": {
    "name": "ipython",
    "version": 3
   },
   "file_extension": ".py",
   "mimetype": "text/x-python",
   "name": "python",
   "nbconvert_exporter": "python",
   "pygments_lexer": "ipython3",
   "version": "3.9.16"
  }
 },
 "nbformat": 4,
 "nbformat_minor": 5
}
